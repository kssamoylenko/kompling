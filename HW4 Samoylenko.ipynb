{
 "cells": [
  {
   "cell_type": "code",
   "execution_count": 80,
   "metadata": {},
   "outputs": [],
   "source": [
    "import pandas as pd\n",
    "from lxml import html\n",
    "import numpy as np\n",
    "from matplotlib import pyplot as plt\n",
    "from sklearn.decomposition import TruncatedSVD, NMF, PCA\n",
    "from sklearn.manifold import TSNE\n",
    "from sklearn.feature_extraction.text import TfidfVectorizer, CountVectorizer\n",
    "from sklearn.metrics.pairwise import cosine_distances\n",
    "from sklearn.ensemble import RandomForestClassifier\n",
    "import gensim\n",
    "import numpy as np\n",
    "from sklearn.cluster import MiniBatchKMeans\n",
    "from sklearn.linear_model import LogisticRegression\n",
    "from sklearn.model_selection import train_test_split\n",
    "from sklearn.metrics import classification_report\n",
    "from collections import Counter,defaultdict\n",
    "from string import punctuation\n",
    "import os\n",
    "from nltk.corpus import stopwords\n",
    "from pymorphy2 import MorphAnalyzer\n",
    "from lxml import etree\n",
    "from xml.dom import minidom\n",
    "import xml.etree.cElementTree as et\n",
    " "
   ]
  },
  {
   "cell_type": "code",
   "execution_count": 81,
   "metadata": {},
   "outputs": [],
   "source": [
    "morph = MorphAnalyzer()\n",
    "punct = punctuation+'«»—…“”*№–'\n",
    "stops = set(stopwords.words('russian'))\n",
    "\n",
    "def normalize(text):\n",
    "    \n",
    "    words = [word.strip(punct) for word in text.lower().split()]\n",
    "    words = [morph.parse(word)[0].normal_form for word in words if word and word not in stops]\n",
    "\n",
    "    return ' '.join(words)\n",
    "\n",
    "def tokenize(text):\n",
    "    \n",
    "    words = [word.strip(punct) for word in text.lower().split()]\n",
    "\n",
    "    return ' '.join(words)"
   ]
  },
  {
   "cell_type": "markdown",
   "metadata": {},
   "source": [
    "### Готовим данные"
   ]
  },
  {
   "cell_type": "code",
   "execution_count": 82,
   "metadata": {},
   "outputs": [],
   "source": [
    "data_train = pd.read_csv('news_texts.csv')"
   ]
  },
  {
   "cell_type": "code",
   "execution_count": 83,
   "metadata": {},
   "outputs": [],
   "source": [
    "data_train.dropna(inplace=True)"
   ]
  },
  {
   "cell_type": "code",
   "execution_count": 84,
   "metadata": {},
   "outputs": [],
   "source": [
    "data_train['content_norm'] = data_train['content'].apply(normalize)"
   ]
  },
  {
   "cell_type": "code",
   "execution_count": 85,
   "metadata": {},
   "outputs": [],
   "source": [
    "corpus_xml = html.fromstring(open('paraphrases.xml', 'rb').read())\n",
    "texts_1 = []\n",
    "texts_2 = []\n",
    "classes = []\n",
    "\n",
    "for p in corpus_xml.xpath('//paraphrase'):\n",
    "    texts_1.append(p.xpath('./value[@name=\"text_1\"]/text()')[0])\n",
    "    texts_2.append(p.xpath('./value[@name=\"text_2\"]/text()')[0])\n",
    "    classes.append(p.xpath('./value[@name=\"class\"]/text()')[0])\n",
    "    \n",
    "data = pd.DataFrame({'text_1':texts_1, 'text_2':texts_2, 'label':classes})"
   ]
  },
  {
   "cell_type": "code",
   "execution_count": 86,
   "metadata": {},
   "outputs": [],
   "source": [
    "data['text_1_norm'] = data['text_1'].apply(normalize)\n",
    "data['text_2_norm'] = data['text_2'].apply(normalize)"
   ]
  },
  {
   "cell_type": "code",
   "execution_count": 87,
   "metadata": {},
   "outputs": [
    {
     "data": {
      "text/html": [
       "<div>\n",
       "<style scoped>\n",
       "    .dataframe tbody tr th:only-of-type {\n",
       "        vertical-align: middle;\n",
       "    }\n",
       "\n",
       "    .dataframe tbody tr th {\n",
       "        vertical-align: top;\n",
       "    }\n",
       "\n",
       "    .dataframe thead th {\n",
       "        text-align: right;\n",
       "    }\n",
       "</style>\n",
       "<table border=\"1\" class=\"dataframe\">\n",
       "  <thead>\n",
       "    <tr style=\"text-align: right;\">\n",
       "      <th></th>\n",
       "      <th>text_1</th>\n",
       "      <th>text_2</th>\n",
       "      <th>label</th>\n",
       "      <th>text_1_norm</th>\n",
       "      <th>text_2_norm</th>\n",
       "    </tr>\n",
       "  </thead>\n",
       "  <tbody>\n",
       "    <tr>\n",
       "      <th>0</th>\n",
       "      <td>Полицейским разрешат стрелять на поражение по ...</td>\n",
       "      <td>Полиции могут разрешить стрелять по хулиганам ...</td>\n",
       "      <td>0</td>\n",
       "      <td>полицейский разрешить стрелять поражение гражд...</td>\n",
       "      <td>полиция мочь разрешить стрелять хулиган травма...</td>\n",
       "    </tr>\n",
       "    <tr>\n",
       "      <th>1</th>\n",
       "      <td>Право полицейских на проникновение в жилище ре...</td>\n",
       "      <td>Правила внесудебного проникновения полицейских...</td>\n",
       "      <td>0</td>\n",
       "      <td>право полицейский проникновение жилища решить ...</td>\n",
       "      <td>правило внесудебный проникновение полицейский ...</td>\n",
       "    </tr>\n",
       "    <tr>\n",
       "      <th>2</th>\n",
       "      <td>Президент Египта ввел чрезвычайное положение в...</td>\n",
       "      <td>Власти Египта угрожают ввести в стране чрезвыч...</td>\n",
       "      <td>0</td>\n",
       "      <td>президент египет ввести чрезвычайный положение...</td>\n",
       "      <td>власть египет угрожать ввести страна чрезвычай...</td>\n",
       "    </tr>\n",
       "    <tr>\n",
       "      <th>3</th>\n",
       "      <td>Вернувшихся из Сирии россиян волнует вопрос тр...</td>\n",
       "      <td>Самолеты МЧС вывезут россиян из разрушенной Си...</td>\n",
       "      <td>-1</td>\n",
       "      <td>вернуться сирия россиянин волновать вопрос тру...</td>\n",
       "      <td>самолёт мчс вывезти россиянин разрушить сирия</td>\n",
       "    </tr>\n",
       "    <tr>\n",
       "      <th>4</th>\n",
       "      <td>В Москву из Сирии вернулись 2 самолета МЧС с р...</td>\n",
       "      <td>Самолеты МЧС вывезут россиян из разрушенной Си...</td>\n",
       "      <td>0</td>\n",
       "      <td>москва сирия вернуться 2 самолёт мчс россиянин...</td>\n",
       "      <td>самолёт мчс вывезти россиянин разрушить сирия</td>\n",
       "    </tr>\n",
       "  </tbody>\n",
       "</table>\n",
       "</div>"
      ],
      "text/plain": [
       "                                              text_1  \\\n",
       "0  Полицейским разрешат стрелять на поражение по ...   \n",
       "1  Право полицейских на проникновение в жилище ре...   \n",
       "2  Президент Египта ввел чрезвычайное положение в...   \n",
       "3  Вернувшихся из Сирии россиян волнует вопрос тр...   \n",
       "4  В Москву из Сирии вернулись 2 самолета МЧС с р...   \n",
       "\n",
       "                                              text_2 label  \\\n",
       "0  Полиции могут разрешить стрелять по хулиганам ...     0   \n",
       "1  Правила внесудебного проникновения полицейских...     0   \n",
       "2  Власти Египта угрожают ввести в стране чрезвыч...     0   \n",
       "3  Самолеты МЧС вывезут россиян из разрушенной Си...    -1   \n",
       "4  Самолеты МЧС вывезут россиян из разрушенной Си...     0   \n",
       "\n",
       "                                         text_1_norm  \\\n",
       "0  полицейский разрешить стрелять поражение гражд...   \n",
       "1  право полицейский проникновение жилища решить ...   \n",
       "2  президент египет ввести чрезвычайный положение...   \n",
       "3  вернуться сирия россиянин волновать вопрос тру...   \n",
       "4  москва сирия вернуться 2 самолёт мчс россиянин...   \n",
       "\n",
       "                                         text_2_norm  \n",
       "0  полиция мочь разрешить стрелять хулиган травма...  \n",
       "1  правило внесудебный проникновение полицейский ...  \n",
       "2  власть египет угрожать ввести страна чрезвычай...  \n",
       "3      самолёт мчс вывезти россиянин разрушить сирия  \n",
       "4      самолёт мчс вывезти россиянин разрушить сирия  "
      ]
     },
     "execution_count": 87,
     "metadata": {},
     "output_type": "execute_result"
    }
   ],
   "source": [
    "data.head()"
   ]
  },
  {
   "cell_type": "markdown",
   "metadata": {},
   "source": [
    "Распарсили тестовые данные, открыли обучающие."
   ]
  },
  {
   "cell_type": "markdown",
   "metadata": {},
   "source": [
    "### SVD и NMF: матричные разложения\n",
    "Обучаем на тестовых данных"
   ]
  },
  {
   "cell_type": "code",
   "execution_count": 89,
   "metadata": {},
   "outputs": [],
   "source": [
    "cv = CountVectorizer(min_df=3, max_df=0.4, max_features=1000)\n",
    "X = cv.fit_transform(data_train['content_norm'])"
   ]
  },
  {
   "cell_type": "code",
   "execution_count": 90,
   "metadata": {},
   "outputs": [
    {
     "data": {
      "text/plain": [
       "(7212, 1000)"
      ]
     },
     "execution_count": 90,
     "metadata": {},
     "output_type": "execute_result"
    }
   ],
   "source": [
    "X.shape"
   ]
  },
  {
   "cell_type": "code",
   "execution_count": 91,
   "metadata": {},
   "outputs": [
    {
     "data": {
      "text/plain": [
       "TruncatedSVD(algorithm='randomized', n_components=200, n_iter=5,\n",
       "       random_state=None, tol=0.0)"
      ]
     },
     "execution_count": 91,
     "metadata": {},
     "output_type": "execute_result"
    }
   ],
   "source": [
    "svd = TruncatedSVD(200)\n",
    "svd.fit(X)"
   ]
  },
  {
   "cell_type": "code",
   "execution_count": null,
   "metadata": {},
   "outputs": [],
   "source": [
    "#tsne = TSNE(2).fit_transform(svd.components_.T)#"
   ]
  },
  {
   "cell_type": "code",
   "execution_count": 92,
   "metadata": {},
   "outputs": [],
   "source": [
    "id2word = {i:w for i,w in enumerate(cv.get_feature_names())}\n",
    "word2id = {w:i for i,w in id2word.items()}"
   ]
  },
  {
   "cell_type": "code",
   "execution_count": 93,
   "metadata": {},
   "outputs": [
    {
     "data": {
      "image/png": "[encoded data removed]",
      "text/plain": [
       "<Figure size 936x936 with 1 Axes>"
      ]
     },
     "metadata": {},
     "output_type": "display_data"
    }
   ],
   "source": [
    "random_inds = np.random.choice(range(len(id2word)), 100, replace=False)\n",
    "res = svd.components_.T[random_inds]\n",
    "# res = tsne[random_inds]\n",
    "\n",
    "plt.figure(figsize=(13,13))\n",
    "plt.scatter(res[:,0], res[:,1])\n",
    "for i, coor in enumerate(random_inds):\n",
    "    x, y = res[i, 0], res[i, 1]\n",
    "    plt.scatter(x, y)\n",
    "    \n",
    "    plt.annotate(id2word[coor], xy=(x, y), xytext=(x*1.01, y*1.01), textcoords='data',\n",
    "                   ha='left', va='bottom', fontsize=15)"
   ]
  },
  {
   "cell_type": "code",
   "execution_count": 94,
   "metadata": {},
   "outputs": [
    {
     "data": {
      "text/plain": [
       "NMF(alpha=0.0, beta_loss='frobenius', init=None, l1_ratio=0.0, max_iter=200,\n",
       "  n_components=50, random_state=None, shuffle=False, solver='cd',\n",
       "  tol=0.0001, verbose=0)"
      ]
     },
     "execution_count": 94,
     "metadata": {},
     "output_type": "execute_result"
    }
   ],
   "source": [
    "nmf = NMF(50)\n",
    "nmf.fit(X)"
   ]
  },
  {
   "cell_type": "code",
   "execution_count": 95,
   "metadata": {},
   "outputs": [
    {
     "data": {
      "text/plain": [
       "TruncatedSVD(algorithm='randomized', n_components=50, n_iter=5,\n",
       "       random_state=None, tol=0.0)"
      ]
     },
     "execution_count": 95,
     "metadata": {},
     "output_type": "execute_result"
    }
   ],
   "source": [
    "svd = TruncatedSVD(50)\n",
    "svd.fit(X)"
   ]
  },
  {
   "cell_type": "code",
   "execution_count": 96,
   "metadata": {},
   "outputs": [],
   "source": [
    "id2word = {i:w for i,w in enumerate(cv.get_feature_names())}\n",
    "word2id = {w:i for i,w in id2word.items()}"
   ]
  },
  {
   "cell_type": "code",
   "execution_count": 97,
   "metadata": {},
   "outputs": [],
   "source": [
    "id2vec_svd = nmf.components_.T\n",
    "id2vec_nmf = svd.components_.T"
   ]
  },
  {
   "cell_type": "code",
   "execution_count": 98,
   "metadata": {},
   "outputs": [],
   "source": [
    "def most_similar(word, id2vec):\n",
    "    similar = [id2word[i] for i in cosine_distances(id2vec[word2id[word]].reshape(1, -1), id2vec).argsort()[0][:10]]\n",
    "    return similar"
   ]
  },
  {
   "cell_type": "code",
   "execution_count": 99,
   "metadata": {},
   "outputs": [
    {
     "data": {
      "text/plain": [
       "['спорт',\n",
       " 'олимпийский',\n",
       " 'спортивный',\n",
       " 'спортсмен',\n",
       " 'олимпиада',\n",
       " 'мокнуть',\n",
       " 'флаг',\n",
       " 'пхёнчхан',\n",
       " 'сочи',\n",
       " 'допинг']"
      ]
     },
     "execution_count": 99,
     "metadata": {},
     "output_type": "execute_result"
    }
   ],
   "source": [
    "most_similar('спорт', id2vec_svd)"
   ]
  },
  {
   "cell_type": "code",
   "execution_count": 100,
   "metadata": {},
   "outputs": [
    {
     "data": {
      "text/plain": [
       "['спорт',\n",
       " 'спортсмен',\n",
       " 'спортивный',\n",
       " 'допинг',\n",
       " 'мокнуть',\n",
       " 'флаг',\n",
       " 'олимпийский',\n",
       " 'федерация',\n",
       " 'участвовать',\n",
       " 'соревнование']"
      ]
     },
     "execution_count": 100,
     "metadata": {},
     "output_type": "execute_result"
    }
   ],
   "source": [
    "most_similar('спорт', id2vec_nmf)"
   ]
  },
  {
   "cell_type": "markdown",
   "metadata": {},
   "source": [
    "Кластеризация"
   ]
  },
  {
   "cell_type": "code",
   "execution_count": 101,
   "metadata": {},
   "outputs": [
    {
     "name": "stdout",
     "output_type": "stream",
     "text": [
      "Init 1/2 with method: k-means++\n"
     ]
    },
    {
     "name": "stderr",
     "output_type": "stream",
     "text": [
      "C:\\Users\\ksenia\\Anaconda3\\lib\\site-packages\\sklearn\\cluster\\k_means_.py:1418: RuntimeWarning: init_size=300 should be larger than k=500. Setting it to 3*k\n",
      "  init_size=init_size)\n"
     ]
    },
    {
     "name": "stdout",
     "output_type": "stream",
     "text": [
      "Inertia for init 1/2: 57.609195\n",
      "Init 2/2 with method: k-means++\n",
      "Inertia for init 2/2: 78.700443\n",
      "Minibatch iteration 1/1000: mean batch inertia: 1.097878, ewa inertia: 1.097878 \n",
      "Minibatch iteration 2/1000: mean batch inertia: 1.330537, ewa inertia: 1.144364 \n",
      "Minibatch iteration 3/1000: mean batch inertia: 1.039925, ewa inertia: 1.123497 \n",
      "Minibatch iteration 4/1000: mean batch inertia: 3.589424, ewa inertia: 1.616189 \n",
      "Minibatch iteration 5/1000: mean batch inertia: 1.185849, ewa inertia: 1.530207 \n",
      "Minibatch iteration 6/1000: mean batch inertia: 0.878045, ewa inertia: 1.399905 \n",
      "Minibatch iteration 7/1000: mean batch inertia: 3.872271, ewa inertia: 1.893884 \n",
      "Minibatch iteration 8/1000: mean batch inertia: 3.368069, ewa inertia: 2.188427 \n",
      "Minibatch iteration 9/1000: mean batch inertia: 1.514360, ewa inertia: 2.053748 \n",
      "[MiniBatchKMeans] Reassigning 50 cluster centers.\n",
      "Minibatch iteration 10/1000: mean batch inertia: 2.569057, ewa inertia: 2.156707 \n",
      "Minibatch iteration 11/1000: mean batch inertia: 2.688987, ewa inertia: 2.263056 \n",
      "Minibatch iteration 12/1000: mean batch inertia: 2.169551, ewa inertia: 2.244374 \n",
      "Minibatch iteration 13/1000: mean batch inertia: 2.383555, ewa inertia: 2.272182 \n",
      "Minibatch iteration 14/1000: mean batch inertia: 2.228099, ewa inertia: 2.263375 \n",
      "Minibatch iteration 15/1000: mean batch inertia: 1.601111, ewa inertia: 2.131054 \n",
      "Minibatch iteration 16/1000: mean batch inertia: 1.228814, ewa inertia: 1.950786 \n",
      "Minibatch iteration 17/1000: mean batch inertia: 1.355431, ewa inertia: 1.831834 \n",
      "Minibatch iteration 18/1000: mean batch inertia: 0.949259, ewa inertia: 1.655496 \n",
      "Minibatch iteration 19/1000: mean batch inertia: 1.056439, ewa inertia: 1.535804 \n",
      "[MiniBatchKMeans] Reassigning 50 cluster centers.\n",
      "Minibatch iteration 20/1000: mean batch inertia: 0.765079, ewa inertia: 1.381813 \n",
      "Minibatch iteration 21/1000: mean batch inertia: 3.036408, ewa inertia: 1.712401 \n",
      "[MiniBatchKMeans] Reassigning 50 cluster centers.\n",
      "Minibatch iteration 22/1000: mean batch inertia: 1.445422, ewa inertia: 1.659059 \n",
      "Minibatch iteration 23/1000: mean batch inertia: 3.366033, ewa inertia: 2.000113 \n",
      "Minibatch iteration 24/1000: mean batch inertia: 1.799741, ewa inertia: 1.960078 \n",
      "Minibatch iteration 25/1000: mean batch inertia: 2.165839, ewa inertia: 2.001189 \n",
      "Minibatch iteration 26/1000: mean batch inertia: 1.442276, ewa inertia: 1.889518 \n",
      "Minibatch iteration 27/1000: mean batch inertia: 1.292913, ewa inertia: 1.770316 \n",
      "Minibatch iteration 28/1000: mean batch inertia: 1.922126, ewa inertia: 1.800648 \n",
      "Minibatch iteration 29/1000: mean batch inertia: 1.518639, ewa inertia: 1.744303 \n",
      "Minibatch iteration 30/1000: mean batch inertia: 1.556033, ewa inertia: 1.706686 \n",
      "Minibatch iteration 31/1000: mean batch inertia: 2.083834, ewa inertia: 1.782040 \n",
      "Minibatch iteration 32/1000: mean batch inertia: 3.798313, ewa inertia: 2.184892 \n",
      "[MiniBatchKMeans] Reassigning 50 cluster centers.\n",
      "Minibatch iteration 33/1000: mean batch inertia: 1.893336, ewa inertia: 2.126639 \n",
      "Minibatch iteration 34/1000: mean batch inertia: 0.725697, ewa inertia: 1.846731 \n",
      "Minibatch iteration 35/1000: mean batch inertia: 1.430898, ewa inertia: 1.763647 \n",
      "[MiniBatchKMeans] Reassigning 50 cluster centers.\n",
      "Minibatch iteration 36/1000: mean batch inertia: 1.341762, ewa inertia: 1.679354 \n",
      "Minibatch iteration 37/1000: mean batch inertia: 1.937086, ewa inertia: 1.730849 \n",
      "Minibatch iteration 38/1000: mean batch inertia: 1.974726, ewa inertia: 1.779576 \n",
      "Minibatch iteration 39/1000: mean batch inertia: 1.432186, ewa inertia: 1.710167 \n",
      "Minibatch iteration 40/1000: mean batch inertia: 1.413550, ewa inertia: 1.650903 \n",
      "Minibatch iteration 41/1000: mean batch inertia: 2.103094, ewa inertia: 1.741251 \n",
      "Minibatch iteration 42/1000: mean batch inertia: 2.320909, ewa inertia: 1.857067 \n",
      "Minibatch iteration 43/1000: mean batch inertia: 2.501905, ewa inertia: 1.985906 \n",
      "Minibatch iteration 44/1000: mean batch inertia: 2.315279, ewa inertia: 2.051714 \n",
      "Minibatch iteration 45/1000: mean batch inertia: 2.016417, ewa inertia: 2.044662 \n",
      "Minibatch iteration 46/1000: mean batch inertia: 2.513990, ewa inertia: 2.138434 \n",
      "Minibatch iteration 47/1000: mean batch inertia: 0.997209, ewa inertia: 1.910417 \n",
      "[MiniBatchKMeans] Reassigning 50 cluster centers.\n",
      "Minibatch iteration 48/1000: mean batch inertia: 2.503379, ewa inertia: 2.028891 \n",
      "Minibatch iteration 49/1000: mean batch inertia: 1.375996, ewa inertia: 1.898442 \n",
      "Minibatch iteration 50/1000: mean batch inertia: 1.476516, ewa inertia: 1.814141 \n",
      "Minibatch iteration 51/1000: mean batch inertia: 3.497195, ewa inertia: 2.150416 \n",
      "[MiniBatchKMeans] Reassigning 50 cluster centers.\n",
      "Minibatch iteration 52/1000: mean batch inertia: 2.360900, ewa inertia: 2.192470 \n",
      "Minibatch iteration 53/1000: mean batch inertia: 2.568887, ewa inertia: 2.267679 \n",
      "Minibatch iteration 54/1000: mean batch inertia: 1.856161, ewa inertia: 2.185457 \n",
      "Minibatch iteration 55/1000: mean batch inertia: 2.283584, ewa inertia: 2.205063 \n",
      "[MiniBatchKMeans] Reassigning 50 cluster centers.\n",
      "Minibatch iteration 56/1000: mean batch inertia: 6.082800, ewa inertia: 2.979836 \n",
      "Minibatch iteration 57/1000: mean batch inertia: 2.449575, ewa inertia: 2.873890 \n",
      "Minibatch iteration 58/1000: mean batch inertia: 2.224661, ewa inertia: 2.744174 \n",
      "Minibatch iteration 59/1000: mean batch inertia: 1.973498, ewa inertia: 2.590192 \n",
      "Minibatch iteration 60/1000: mean batch inertia: 2.254953, ewa inertia: 2.523212 \n",
      "Minibatch iteration 61/1000: mean batch inertia: 1.638000, ewa inertia: 2.346346 \n",
      "Minibatch iteration 62/1000: mean batch inertia: 2.861233, ewa inertia: 2.449221 \n",
      "Minibatch iteration 63/1000: mean batch inertia: 1.922938, ewa inertia: 2.344069 \n",
      "Minibatch iteration 64/1000: mean batch inertia: 1.599902, ewa inertia: 2.195385 \n",
      "Minibatch iteration 65/1000: mean batch inertia: 1.662955, ewa inertia: 2.089005 \n",
      "Minibatch iteration 66/1000: mean batch inertia: 2.362985, ewa inertia: 2.143746 \n",
      "Minibatch iteration 67/1000: mean batch inertia: 2.457082, ewa inertia: 2.206351 \n",
      "Minibatch iteration 68/1000: mean batch inertia: 2.195565, ewa inertia: 2.204196 \n",
      "Minibatch iteration 69/1000: mean batch inertia: 2.647101, ewa inertia: 2.292688 \n",
      "[MiniBatchKMeans] Reassigning 50 cluster centers.\n",
      "Minibatch iteration 70/1000: mean batch inertia: 1.609160, ewa inertia: 2.156119 \n",
      "Minibatch iteration 71/1000: mean batch inertia: 1.647439, ewa inertia: 2.054485 \n",
      "Minibatch iteration 72/1000: mean batch inertia: 2.339282, ewa inertia: 2.111387 \n",
      "Minibatch iteration 73/1000: mean batch inertia: 1.256870, ewa inertia: 1.940655 \n",
      "Minibatch iteration 74/1000: mean batch inertia: 3.198677, ewa inertia: 2.192008 \n",
      "[MiniBatchKMeans] Reassigning 50 cluster centers.\n",
      "Minibatch iteration 75/1000: mean batch inertia: 2.101237, ewa inertia: 2.173872 \n",
      "Minibatch iteration 76/1000: mean batch inertia: 3.466622, ewa inertia: 2.432164 \n",
      "Minibatch iteration 77/1000: mean batch inertia: 1.379973, ewa inertia: 2.221936 \n",
      "Minibatch iteration 78/1000: mean batch inertia: 1.443383, ewa inertia: 2.066381 \n",
      "Minibatch iteration 79/1000: mean batch inertia: 2.394121, ewa inertia: 2.131863 \n",
      "[MiniBatchKMeans] Reassigning 50 cluster centers.\n",
      "Minibatch iteration 80/1000: mean batch inertia: 2.702209, ewa inertia: 2.245819 \n",
      "Minibatch iteration 81/1000: mean batch inertia: 1.252748, ewa inertia: 2.047403 \n",
      "Minibatch iteration 82/1000: mean batch inertia: 10.459050, ewa inertia: 3.728052 \n",
      "Minibatch iteration 83/1000: mean batch inertia: 6.321807, ewa inertia: 4.246284 \n",
      "Minibatch iteration 84/1000: mean batch inertia: 1.855220, ewa inertia: 3.768549 \n",
      "[MiniBatchKMeans] Reassigning 50 cluster centers.\n",
      "Minibatch iteration 85/1000: mean batch inertia: 1.918545, ewa inertia: 3.398918 \n",
      "Minibatch iteration 86/1000: mean batch inertia: 1.127020, ewa inertia: 2.944992 \n",
      "Minibatch iteration 87/1000: mean batch inertia: 1.714062, ewa inertia: 2.699052 \n",
      "Minibatch iteration 88/1000: mean batch inertia: 1.363200, ewa inertia: 2.432149 \n",
      "Minibatch iteration 89/1000: mean batch inertia: 1.388362, ewa inertia: 2.223600 \n",
      "Minibatch iteration 90/1000: mean batch inertia: 1.570666, ewa inertia: 2.093144 \n",
      "Minibatch iteration 91/1000: mean batch inertia: 2.089864, ewa inertia: 2.092488 \n",
      "Minibatch iteration 92/1000: mean batch inertia: 7.155595, ewa inertia: 3.104098 \n",
      "Minibatch iteration 93/1000: mean batch inertia: 1.595489, ewa inertia: 2.802678 \n",
      "Minibatch iteration 94/1000: mean batch inertia: 1.466527, ewa inertia: 2.535714 \n",
      "Minibatch iteration 95/1000: mean batch inertia: 1.722956, ewa inertia: 2.373325 \n",
      "Minibatch iteration 96/1000: mean batch inertia: 2.201904, ewa inertia: 2.339075 \n",
      "Minibatch iteration 97/1000: mean batch inertia: 2.011661, ewa inertia: 2.273658 \n",
      "Minibatch iteration 98/1000: mean batch inertia: 3.215246, ewa inertia: 2.461787 \n",
      "Minibatch iteration 99/1000: mean batch inertia: 1.715048, ewa inertia: 2.312589 \n",
      "Minibatch iteration 100/1000: mean batch inertia: 1.829616, ewa inertia: 2.216091 \n",
      "Minibatch iteration 101/1000: mean batch inertia: 1.065458, ewa inertia: 1.986194 \n",
      "Converged (lack of improvement in inertia) at iteration 101/1000\n",
      "Computing label assignment and total inertia\n"
     ]
    },
    {
     "data": {
      "text/plain": [
       "MiniBatchKMeans(batch_size=100, compute_labels=True, init='k-means++',\n",
       "        init_size=None, max_iter=100, max_no_improvement=100,\n",
       "        n_clusters=500, n_init=2, random_state=None,\n",
       "        reassignment_ratio=0.4, tol=0.0, verbose=1)"
      ]
     },
     "execution_count": 101,
     "metadata": {},
     "output_type": "execute_result"
    }
   ],
   "source": [
    "cluster = MiniBatchKMeans(500, n_init=2, verbose=1, max_no_improvement=100, reassignment_ratio=0.4)\n",
    "cluster.fit(nmf.components_.T)"
   ]
  },
  {
   "cell_type": "code",
   "execution_count": 102,
   "metadata": {},
   "outputs": [],
   "source": [
    "cls = defaultdict(list)\n",
    "\n",
    "for i, cl in enumerate(cluster.labels_):\n",
    "    cls[cl].append(id2word[i])\n",
    "\n",
    "f = open('cluster_nmf.txt', 'w')\n",
    "for cl in cls:\n",
    "    f.write('### '+ str(cl) + ' ###\\n')\n",
    "    f.write('\\n'.join(cls[cl]))\n",
    "    f.write('\\n\\n')\n",
    "f.close()"
   ]
  },
  {
   "cell_type": "markdown",
   "metadata": {},
   "source": [
    "### Обучаем Word2Vec и Fasttext"
   ]
  },
  {
   "cell_type": "code",
   "execution_count": 104,
   "metadata": {},
   "outputs": [],
   "source": [
    "fast_text = gensim.models.FastText([text.split() for text in data_train['content_norm']], size=50, min_n=4, max_n=8)\n",
    "w2v = gensim.models.Word2Vec([text.split() for text in data_train['content_norm']], size=50, sg=1)"
   ]
  },
  {
   "cell_type": "code",
   "execution_count": 105,
   "metadata": {},
   "outputs": [
    {
     "name": "stderr",
     "output_type": "stream",
     "text": [
      "C:\\Users\\ksenia\\Anaconda3\\lib\\site-packages\\ipykernel_launcher.py:2: DeprecationWarning: Call to deprecated `__getitem__` (Method will be removed in 4.0.0, use self.wv.__getitem__() instead).\n",
      "  \n"
     ]
    },
    {
     "ename": "ValueError",
     "evalue": "too many values to unpack (expected 2)",
     "output_type": "error",
     "traceback": [
      "\u001b[1;31m---------------------------------------------------------------------------\u001b[0m",
      "\u001b[1;31mValueError\u001b[0m                                Traceback (most recent call last)",
      "\u001b[1;32m<ipython-input-105-3a2bcab4c0fa>\u001b[0m in \u001b[0;36m<module>\u001b[1;34m()\u001b[0m\n\u001b[0;32m      6\u001b[0m \u001b[0mplt\u001b[0m\u001b[1;33m.\u001b[0m\u001b[0mscatter\u001b[0m\u001b[1;33m(\u001b[0m\u001b[0mres\u001b[0m\u001b[1;33m[\u001b[0m\u001b[1;33m:\u001b[0m\u001b[1;33m,\u001b[0m\u001b[1;36m0\u001b[0m\u001b[1;33m]\u001b[0m\u001b[1;33m,\u001b[0m \u001b[0mres\u001b[0m\u001b[1;33m[\u001b[0m\u001b[1;33m:\u001b[0m\u001b[1;33m,\u001b[0m\u001b[1;36m1\u001b[0m\u001b[1;33m]\u001b[0m\u001b[1;33m)\u001b[0m\u001b[1;33m\u001b[0m\u001b[0m\n\u001b[0;32m      7\u001b[0m \u001b[1;32mfor\u001b[0m \u001b[0mi\u001b[0m\u001b[1;33m,\u001b[0m \u001b[0mcoor\u001b[0m \u001b[1;32min\u001b[0m \u001b[0menumerate\u001b[0m\u001b[1;33m(\u001b[0m\u001b[0mres\u001b[0m\u001b[1;33m)\u001b[0m\u001b[1;33m:\u001b[0m\u001b[1;33m\u001b[0m\u001b[0m\n\u001b[1;32m----> 8\u001b[1;33m     \u001b[0mx\u001b[0m\u001b[1;33m,\u001b[0m \u001b[0my\u001b[0m \u001b[1;33m=\u001b[0m \u001b[0mcoor\u001b[0m\u001b[1;33m\u001b[0m\u001b[0m\n\u001b[0m\u001b[0;32m      9\u001b[0m     \u001b[0mplt\u001b[0m\u001b[1;33m.\u001b[0m\u001b[0mscatter\u001b[0m\u001b[1;33m(\u001b[0m\u001b[0mx\u001b[0m\u001b[1;33m,\u001b[0m \u001b[0my\u001b[0m\u001b[1;33m)\u001b[0m\u001b[1;33m\u001b[0m\u001b[0m\n\u001b[0;32m     10\u001b[0m \u001b[1;33m\u001b[0m\u001b[0m\n",
      "\u001b[1;31mValueError\u001b[0m: too many values to unpack (expected 2)"
     ]
    },
    {
     "data": {
      "image/png": "[encoded data removed]",
      "text/plain": [
       "<Figure size 936x936 with 1 Axes>"
      ]
     },
     "metadata": {},
     "output_type": "display_data"
    }
   ],
   "source": [
    "random_words = np.random.choice(w2v.wv.index2word, 100, replace=False)\n",
    "res = w2v[random_words]\n",
    "# res = TSNE(2).fit_transform(res)\n",
    "\n",
    "plt.figure(figsize=(13,13))\n",
    "plt.scatter(res[:,0], res[:,1])\n",
    "for i, coor in enumerate(res):\n",
    "    x, y = coor\n",
    "    plt.scatter(x, y)\n",
    "    \n",
    "    plt.annotate(random_words[i], xy=(x, y), xytext=(x*1.01, y*1.01), textcoords='data',\n",
    "                   ha='left', va='bottom', fontsize=15)"
   ]
  },
  {
   "cell_type": "code",
   "execution_count": 107,
   "metadata": {},
   "outputs": [],
   "source": [
    "fast_text = gensim.models.FastText([text.split() for text in data_train['content_norm']], size=50, min_n=4, max_n=8)\n",
    "w2v = gensim.models.Word2Vec([text.split() for text in data_train['content_norm']], size=50, sg=1)"
   ]
  },
  {
   "cell_type": "code",
   "execution_count": 108,
   "metadata": {},
   "outputs": [
    {
     "name": "stderr",
     "output_type": "stream",
     "text": [
      "C:\\Users\\ksenia\\Anaconda3\\lib\\site-packages\\ipykernel_launcher.py:1: DeprecationWarning: Call to deprecated `most_similar` (Method will be removed in 4.0.0, use self.wv.most_similar() instead).\n",
      "  \"\"\"Entry point for launching an IPython kernel.\n",
      "C:\\Users\\ksenia\\Anaconda3\\lib\\site-packages\\gensim\\matutils.py:737: FutureWarning: Conversion of the second argument of issubdtype from `int` to `np.signedinteger` is deprecated. In future, it will be treated as `np.int32 == np.dtype(int).type`.\n",
      "  if np.issubdtype(vec.dtype, np.int):\n"
     ]
    },
    {
     "data": {
      "text/plain": [
       "[('путинцев', 0.9855004549026489),\n",
       " ('ватутин', 0.9539036750793457),\n",
       " ('распутин', 0.9289225339889526),\n",
       " ('федутин', 0.901850700378418),\n",
       " ('путч', 0.7424615621566772),\n",
       " ('песок', 0.670208215713501),\n",
       " ('песо', 0.6589630246162415),\n",
       " ('гройсман', 0.6528561115264893),\n",
       " ('соломатин', 0.6408776044845581),\n",
       " ('дутерот', 0.6375821828842163)]"
      ]
     },
     "execution_count": 108,
     "metadata": {},
     "output_type": "execute_result"
    }
   ],
   "source": [
    "fast_text.most_similar('путин')"
   ]
  },
  {
   "cell_type": "code",
   "execution_count": 109,
   "metadata": {},
   "outputs": [
    {
     "name": "stderr",
     "output_type": "stream",
     "text": [
      "C:\\Users\\ksenia\\Anaconda3\\lib\\site-packages\\ipykernel_launcher.py:1: DeprecationWarning: Call to deprecated `most_similar` (Method will be removed in 4.0.0, use self.wv.most_similar() instead).\n",
      "  \"\"\"Entry point for launching an IPython kernel.\n",
      "C:\\Users\\ksenia\\Anaconda3\\lib\\site-packages\\gensim\\matutils.py:737: FutureWarning: Conversion of the second argument of issubdtype from `int` to `np.signedinteger` is deprecated. In future, it will be treated as `np.int32 == np.dtype(int).type`.\n",
      "  if np.issubdtype(vec.dtype, np.int):\n"
     ]
    },
    {
     "data": {
      "text/plain": [
       "[('владимир', 0.8385375738143921),\n",
       " ('послание', 0.8073840141296387),\n",
       " ('колокольцев', 0.7921226024627686),\n",
       " ('эрдоган', 0.7853175401687622),\n",
       " ('kremlin.ru', 0.7721611261367798),\n",
       " ('в.в', 0.7714988589286804),\n",
       " ('рухани', 0.7661030888557434),\n",
       " ('роухани', 0.7643266916275024),\n",
       " ('президент', 0.7634550333023071),\n",
       " ('кремль', 0.7546113729476929)]"
      ]
     },
     "execution_count": 109,
     "metadata": {},
     "output_type": "execute_result"
    }
   ],
   "source": [
    "w2v.most_similar('путин')"
   ]
  },
  {
   "cell_type": "code",
   "execution_count": 113,
   "metadata": {},
   "outputs": [],
   "source": [
    "corpus = [text.split() for text in data_train['content'].apply(tokenize)]\n",
    "fast_text = gensim.models.FastText(corpus, size=50, min_n=4, max_n=8)"
   ]
  },
  {
   "cell_type": "markdown",
   "metadata": {},
   "source": [
    "### Решение дз: преобразование текстов разными методами"
   ]
  },
  {
   "cell_type": "code",
   "execution_count": 115,
   "metadata": {},
   "outputs": [],
   "source": [
    "tfidf=TfidfVectorizer()"
   ]
  },
  {
   "cell_type": "code",
   "execution_count": 116,
   "metadata": {},
   "outputs": [
    {
     "name": "stderr",
     "output_type": "stream",
     "text": [
      "C:\\Users\\ksenia\\Anaconda3\\lib\\site-packages\\sklearn\\model_selection\\_split.py:2026: FutureWarning: From version 0.21, test_size will always complement train_size unless both are specified.\n",
      "  FutureWarning)\n"
     ]
    }
   ],
   "source": [
    "X_train,X_test,y_train,y_test=train_test_split(data.iloc[:,1:],data[\"label\"],train_size=7224)"
   ]
  },
  {
   "cell_type": "code",
   "execution_count": 117,
   "metadata": {},
   "outputs": [
    {
     "data": {
      "text/plain": [
       "7224"
      ]
     },
     "execution_count": 117,
     "metadata": {},
     "output_type": "execute_result"
    }
   ],
   "source": [
    "X_train.shape[0]"
   ]
  },
  {
   "cell_type": "code",
   "execution_count": 118,
   "metadata": {},
   "outputs": [
    {
     "data": {
      "text/plain": [
       "TfidfVectorizer(analyzer='word', binary=False, decode_error='strict',\n",
       "        dtype=<class 'numpy.int64'>, encoding='utf-8', input='content',\n",
       "        lowercase=True, max_df=1.0, max_features=None, min_df=1,\n",
       "        ngram_range=(1, 1), norm='l2', preprocessor=None, smooth_idf=True,\n",
       "        stop_words=None, strip_accents=None, sublinear_tf=False,\n",
       "        token_pattern='(?u)\\\\b\\\\w\\\\w+\\\\b', tokenizer=None, use_idf=True,\n",
       "        vocabulary=None)"
      ]
     },
     "execution_count": 118,
     "metadata": {},
     "output_type": "execute_result"
    }
   ],
   "source": [
    "\n",
    "tfidf.fit([X_train.loc[i,\"text_1_norm\"]+\" \"+X_train.loc[i,\"text_2_norm\"] for i in list(X_train.index)])"
   ]
  },
  {
   "cell_type": "markdown",
   "metadata": {},
   "source": [
    "### SVD"
   ]
  },
  {
   "cell_type": "code",
   "execution_count": 119,
   "metadata": {},
   "outputs": [],
   "source": [
    "svd=TruncatedSVD(30)"
   ]
  },
  {
   "cell_type": "code",
   "execution_count": 120,
   "metadata": {},
   "outputs": [
    {
     "data": {
      "text/plain": [
       "TruncatedSVD(algorithm='randomized', n_components=30, n_iter=5,\n",
       "       random_state=None, tol=0.0)"
      ]
     },
     "execution_count": 120,
     "metadata": {},
     "output_type": "execute_result"
    }
   ],
   "source": [
    "svd.fit(tfidf.transform([X_train.loc[i,\"text_1_norm\"]+\" \"+X_train.loc[i,\"text_2_norm\"] for i in list(X_train.index)]))"
   ]
  },
  {
   "cell_type": "code",
   "execution_count": 121,
   "metadata": {},
   "outputs": [],
   "source": [
    "svd_train1=svd.transform(tfidf.transform([X_train.loc[i,\"text_1_norm\"] for i in list(X_train.index)]))\n",
    "svd_train2=svd.transform(tfidf.transform([X_train.loc[i,\"text_2_norm\"] for i in list(X_train.index)]))"
   ]
  },
  {
   "cell_type": "code",
   "execution_count": 122,
   "metadata": {},
   "outputs": [],
   "source": [
    "svd_test1=svd.transform(tfidf.transform([X_test.loc[i,\"text_1_norm\"] for i in list(X_test.index)]))\n",
    "svd_test2=svd.transform(tfidf.transform([X_test.loc[i,\"text_2_norm\"] for i in list(X_test.index)]))"
   ]
  },
  {
   "cell_type": "code",
   "execution_count": 123,
   "metadata": {},
   "outputs": [],
   "source": [
    "def get_column(matrix1,matrix2):\n",
    "    cosines=[]\n",
    "    for i in range(len(matrix1)):\n",
    "        scalar=np.dot(matrix1[i,:],matrix2[i,:])\n",
    "        cosine=scalar/(np.linalg.norm(matrix1[i,:])*np.linalg.norm(matrix2[i,:]))\n",
    "        cosines.append(cosine)\n",
    "    return np.reshape(cosines,(len(cosines),1))"
   ]
  },
  {
   "cell_type": "code",
   "execution_count": 124,
   "metadata": {},
   "outputs": [],
   "source": [
    "column1_train=get_column(svd_train1,svd_train2)\n",
    "column1_test=get_column(svd_test1,svd_test2)"
   ]
  },
  {
   "cell_type": "markdown",
   "metadata": {},
   "source": [
    "### NMF"
   ]
  },
  {
   "cell_type": "code",
   "execution_count": 125,
   "metadata": {},
   "outputs": [
    {
     "data": {
      "text/plain": [
       "NMF(alpha=0.0, beta_loss='frobenius', init=None, l1_ratio=0.0, max_iter=200,\n",
       "  n_components=30, random_state=None, shuffle=False, solver='cd',\n",
       "  tol=0.0001, verbose=0)"
      ]
     },
     "execution_count": 125,
     "metadata": {},
     "output_type": "execute_result"
    }
   ],
   "source": [
    "nmf=NMF(30)\n",
    "nmf.fit(tfidf.transform([X_train.loc[i,\"text_1_norm\"]+\" \"+X_train.loc[i,\"text_2_norm\"] for i in list(X_train.index)]))"
   ]
  },
  {
   "cell_type": "code",
   "execution_count": 126,
   "metadata": {},
   "outputs": [],
   "source": [
    "nmf_train1=nmf.transform(tfidf.transform([X_train.loc[i,\"text_1_norm\"] for i in list(X_train.index)]))\n",
    "nmf_train2=nmf.transform(tfidf.transform([X_train.loc[i,\"text_2_norm\"] for i in list(X_train.index)]))"
   ]
  },
  {
   "cell_type": "code",
   "execution_count": 127,
   "metadata": {},
   "outputs": [],
   "source": [
    "nmf_test1=nmf.transform(tfidf.transform([X_test.loc[i,\"text_1_norm\"] for i in list(X_test.index)]))\n",
    "nmf_test2=nmf.transform(tfidf.transform([X_test.loc[i,\"text_2_norm\"] for i in list(X_test.index)]))"
   ]
  },
  {
   "cell_type": "code",
   "execution_count": 128,
   "metadata": {},
   "outputs": [],
   "source": [
    "column2_train=get_column(nmf_train1,nmf_train2)\n",
    "column2_test=get_column(nmf_test1,nmf_test2)"
   ]
  },
  {
   "cell_type": "markdown",
   "metadata": {},
   "source": [
    "### Word2vec + FastText"
   ]
  },
  {
   "cell_type": "code",
   "execution_count": 129,
   "metadata": {},
   "outputs": [],
   "source": [
    "fast_text = gensim.models.FastText([text.split() for text in data['text_1_norm']], size=50, min_n=4, max_n=8)\n",
    "w2v = gensim.models.Word2Vec([text.split() for text in data['text_1_norm']], size=50, sg=1)"
   ]
  },
  {
   "cell_type": "code",
   "execution_count": 130,
   "metadata": {},
   "outputs": [],
   "source": [
    "def get_embeddings(text,model):\n",
    "    text=text.split()\n",
    "    num=Counter(text)\n",
    "    \n",
    "    embeddings=[]\n",
    "    dictionary=set(text)\n",
    "    for word in dictionary:\n",
    "        try:\n",
    "            embedding=model[word]*num[word]/len(text)\n",
    "        except:\n",
    "            embedding=np.zeros(50)\n",
    "        embeddings.append(embedding)\n",
    "      \n",
    "    embeddings=np.array(embeddings)\n",
    "    return np.average(embeddings,axis=0)"
   ]
  },
  {
   "cell_type": "code",
   "execution_count": 131,
   "metadata": {},
   "outputs": [
    {
     "name": "stderr",
     "output_type": "stream",
     "text": [
      "C:\\Users\\ksenia\\Anaconda3\\lib\\site-packages\\ipykernel_launcher.py:9: DeprecationWarning: Call to deprecated `__getitem__` (Method will be removed in 4.0.0, use self.wv.__getitem__() instead).\n",
      "  if __name__ == '__main__':\n"
     ]
    }
   ],
   "source": [
    "w2v_train1=np.array([get_embeddings(text,w2v) for text in X_train[\"text_1_norm\"]])\n",
    "w2v_train2=np.array([get_embeddings(text,w2v) for text in X_train[\"text_2_norm\"]])\n",
    "\n",
    "w2v_test1=np.array([get_embeddings(text,w2v) for text in X_test[\"text_1_norm\"]])\n",
    "w2v_test2=np.array([get_embeddings(text,w2v) for text in X_test[\"text_2_norm\"]])"
   ]
  },
  {
   "cell_type": "code",
   "execution_count": 132,
   "metadata": {},
   "outputs": [
    {
     "name": "stderr",
     "output_type": "stream",
     "text": [
      "C:\\Users\\ksenia\\Anaconda3\\lib\\site-packages\\ipykernel_launcher.py:9: DeprecationWarning: Call to deprecated `__getitem__` (Method will be removed in 4.0.0, use self.wv.__getitem__() instead).\n",
      "  if __name__ == '__main__':\n"
     ]
    }
   ],
   "source": [
    "fast_text_train1=np.array([get_embeddings(text,fast_text) for text in X_train[\"text_1_norm\"]])\n",
    "fast_text_train2=np.array([get_embeddings(text,fast_text) for text in X_train[\"text_2_norm\"]])\n",
    "\n",
    "fast_text_test1=np.array([get_embeddings(text,fast_text) for text in X_test[\"text_1_norm\"]])\n",
    "fast_text_test2=np.array([get_embeddings(text,fast_text) for text in X_test[\"text_2_norm\"]])"
   ]
  },
  {
   "cell_type": "code",
   "execution_count": 133,
   "metadata": {},
   "outputs": [
    {
     "name": "stderr",
     "output_type": "stream",
     "text": [
      "C:\\Users\\ksenia\\Anaconda3\\lib\\site-packages\\ipykernel_launcher.py:5: RuntimeWarning: invalid value encountered in double_scalars\n",
      "  \"\"\"\n"
     ]
    }
   ],
   "source": [
    "column3_train=get_column(w2v_train1,w2v_train2)\n",
    "column3_test=get_column(w2v_test1,w2v_test2)"
   ]
  },
  {
   "cell_type": "code",
   "execution_count": 134,
   "metadata": {},
   "outputs": [],
   "source": [
    "column4_train=get_column(fast_text_train1,fast_text_train2)\n",
    "column4_test=get_column(fast_text_test1,fast_text_test2)"
   ]
  },
  {
   "cell_type": "markdown",
   "metadata": {},
   "source": [
    "### Adagram"
   ]
  },
  {
   "cell_type": "markdown",
   "metadata": {},
   "source": [
    "Вот тут, к сожалению, возникла проблема с установкой адаграма под Windows. Так что финальная часть — без него :(."
   ]
  },
  {
   "cell_type": "markdown",
   "metadata": {},
   "source": [
    "### Оценка модели (без адаграма)"
   ]
  },
  {
   "cell_type": "code",
   "execution_count": 152,
   "metadata": {},
   "outputs": [],
   "source": [
    "from sklearn.model_selection import cross_val_score"
   ]
  },
  {
   "cell_type": "code",
   "execution_count": 146,
   "metadata": {},
   "outputs": [],
   "source": [
    "X_train=np.concatenate((column1_train,column2_train,column3_train,column4_train),axis=1)"
   ]
  },
  {
   "cell_type": "code",
   "execution_count": 147,
   "metadata": {},
   "outputs": [
    {
     "data": {
      "text/plain": [
       "(7224, 4)"
      ]
     },
     "execution_count": 147,
     "metadata": {},
     "output_type": "execute_result"
    }
   ],
   "source": [
    "X_train.shape"
   ]
  },
  {
   "cell_type": "code",
   "execution_count": 148,
   "metadata": {},
   "outputs": [],
   "source": [
    "X_test=np.concatenate((column1_test,column2_test,column3_test,column4_test),axis=1)"
   ]
  },
  {
   "cell_type": "code",
   "execution_count": 149,
   "metadata": {},
   "outputs": [],
   "source": [
    "clf=RandomForestClassifier(n_estimators=20)"
   ]
  },
  {
   "cell_type": "code",
   "execution_count": 150,
   "metadata": {},
   "outputs": [],
   "source": [
    "X_train=np.nan_to_num(X_train)"
   ]
  },
  {
   "cell_type": "code",
   "execution_count": 153,
   "metadata": {},
   "outputs": [
    {
     "name": "stdout",
     "output_type": "stream",
     "text": [
      "0.4923855105379227\n"
     ]
    }
   ],
   "source": [
    "print(np.mean(cross_val_score(clf,X_train,y_train,scoring=\"f1_micro\")))"
   ]
  },
  {
   "cell_type": "markdown",
   "metadata": {},
   "source": [
    "Результат получился не очень хорошим, прямо скажем, средненьким. Мы можем попробовать улучшить его за счет оптимизации классификатора. Рассмотрим несколько вариантов."
   ]
  },
  {
   "cell_type": "markdown",
   "metadata": {},
   "source": [
    "### Оптимизация модели"
   ]
  },
  {
   "cell_type": "code",
   "execution_count": 154,
   "metadata": {},
   "outputs": [],
   "source": [
    "clf1=RandomForestClassifier(n_estimators=10)"
   ]
  },
  {
   "cell_type": "code",
   "execution_count": 155,
   "metadata": {},
   "outputs": [],
   "source": [
    "clf2=RandomForestClassifier(n_estimators=10,max_depth=5)"
   ]
  },
  {
   "cell_type": "code",
   "execution_count": 156,
   "metadata": {},
   "outputs": [],
   "source": [
    "clf3=RandomForestClassifier(n_estimators=30,max_depth=5)"
   ]
  },
  {
   "cell_type": "code",
   "execution_count": 157,
   "metadata": {},
   "outputs": [],
   "source": [
    "clf4=RandomForestClassifier(n_estimators=40,max_depth=10)"
   ]
  },
  {
   "cell_type": "code",
   "execution_count": 158,
   "metadata": {},
   "outputs": [
    {
     "name": "stdout",
     "output_type": "stream",
     "text": [
      "0.47937740886296876\n"
     ]
    }
   ],
   "source": [
    "print(np.mean(cross_val_score(clf1,X_train,y_train,scoring=\"f1_micro\")))"
   ]
  },
  {
   "cell_type": "code",
   "execution_count": 159,
   "metadata": {},
   "outputs": [
    {
     "name": "stdout",
     "output_type": "stream",
     "text": [
      "0.5160609214504431\n"
     ]
    }
   ],
   "source": [
    "print(np.mean(cross_val_score(clf2,X_train,y_train,scoring=\"f1_micro\")))"
   ]
  },
  {
   "cell_type": "code",
   "execution_count": 160,
   "metadata": {},
   "outputs": [
    {
     "name": "stdout",
     "output_type": "stream",
     "text": [
      "0.5189664614380152\n"
     ]
    }
   ],
   "source": [
    "print(np.mean(cross_val_score(clf3,X_train,y_train,scoring=\"f1_micro\")))"
   ]
  },
  {
   "cell_type": "code",
   "execution_count": 161,
   "metadata": {},
   "outputs": [
    {
     "name": "stdout",
     "output_type": "stream",
     "text": [
      "0.5195190795041725\n"
     ]
    }
   ],
   "source": [
    "print(np.mean(cross_val_score(clf4,X_train,y_train,scoring=\"f1_micro\")))"
   ]
  },
  {
   "cell_type": "code",
   "execution_count": 162,
   "metadata": {},
   "outputs": [],
   "source": [
    "clf5=RandomForestClassifier(n_estimators=50,max_depth=15)"
   ]
  },
  {
   "cell_type": "code",
   "execution_count": 163,
   "metadata": {},
   "outputs": [
    {
     "name": "stdout",
     "output_type": "stream",
     "text": [
      "0.5081680829127283\n"
     ]
    }
   ],
   "source": [
    "print(np.mean(cross_val_score(clf5,X_train,y_train,scoring=\"f1_micro\")))"
   ]
  },
  {
   "cell_type": "markdown",
   "metadata": {},
   "source": [
    "Наиболее высокий результат показала четвертая модель, хотя различаются они все незначительно. Заметно, что при уменьшении n_estimators качество падает.\n"
   ]
  },
  {
   "cell_type": "code",
   "execution_count": null,
   "metadata": {},
   "outputs": [],
   "source": []
  }
 ],
 "metadata": {
  "kernelspec": {
   "display_name": "Python 3",
   "language": "python",
   "name": "python3"
  },
  "language_info": {
   "codemirror_mode": {
    "name": "ipython",
    "version": 3
   },
   "file_extension": ".py",
   "mimetype": "text/x-python",
   "name": "python",
   "nbconvert_exporter": "python",
   "pygments_lexer": "ipython3",
   "version": "3.6.5"
  }
 },
 "nbformat": 4,
 "nbformat_minor": 2
}
