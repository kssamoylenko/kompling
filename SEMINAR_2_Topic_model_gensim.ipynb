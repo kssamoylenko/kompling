{
 "cells": [
  {
   "cell_type": "code",
   "execution_count": 2,
   "metadata": {},
   "outputs": [
    {
     "name": "stderr",
     "output_type": "stream",
     "text": [
      "C:\\Users\\ksenia\\Anaconda3\\lib\\site-packages\\gensim\\utils.py:1212: UserWarning: detected Windows; aliasing chunkize to chunkize_serial\n",
      "  warnings.warn(\"detected Windows; aliasing chunkize to chunkize_serial\")\n"
     ]
    }
   ],
   "source": [
    "import gensim\n",
    "import json\n",
    "import re\n",
    "from nltk.tokenize import word_tokenize\n",
    "from pymorphy2 import MorphAnalyzer\n",
    "import pyLDAvis.gensim \n",
    "\n",
    "morph = MorphAnalyzer()"
   ]
  },
  {
   "cell_type": "markdown",
   "metadata": {},
   "source": [
    "## Домашнее задание"
   ]
  },
  {
   "cell_type": "markdown",
   "metadata": {},
   "source": [
    "Основаная задача - **построить хорошую тематическую модель с интерпретируемыми топиками**.\n",
    "\n",
    "1) сделайте нормализацию (если pymorphy2 работает долго используйте mystem или попробуйте установить быструю версию - `pip install pymorphy2[fast]`, можно использовать какой-то другой токенизатор); \n",
    "\n",
    "2) добавьте нграммы (в тетрадке есть закомменченая ячейка с Phrases); \n",
    "\n",
    "3) сделайте хороший словарь (отфильтруйте слишком частотные и редкие слова, попробуйте удалить стоп-слова); "
   ]
  },
  {
   "cell_type": "code",
   "execution_count": 3,
   "metadata": {},
   "outputs": [],
   "source": [
    "habr_texts = open('habr_texts.txt', encoding = 'utf-8').read().splitlines()"
   ]
  },
  {
   "cell_type": "code",
   "execution_count": 4,
   "metadata": {},
   "outputs": [],
   "source": [
    "def remove_tags(text):\n",
    "    return re.sub(r'<[^>]+>', '', text)\n",
    "\n",
    "def clean(words):\n",
    "    clean = [morph.parse(word)[0].normal_form for word in words if len(set(word)) > 1]\n",
    "    return clean"
   ]
  },
  {
   "cell_type": "code",
   "execution_count": 5,
   "metadata": {},
   "outputs": [],
   "source": [
    "import collections"
   ]
  },
  {
   "cell_type": "code",
   "execution_count": 6,
   "metadata": {},
   "outputs": [],
   "source": [
    "f = open('habr_texts.vw', 'w', encoding='utf-8')\n",
    "\n",
    "for i, text in enumerate(habr_texts):\n",
    "    c = collections.Counter(text)\n",
    "    doc = 'doc_'+ str(i) + ' '\n",
    "    vw_text = ' '.join([x+':'+str(c[x]) for x in c])\n",
    "    \n",
    "    f.write(doc + vw_text  + '\\n')\n",
    "f.close()\n",
    "\n"
   ]
  },
  {
   "cell_type": "code",
   "execution_count": 8,
   "metadata": {},
   "outputs": [],
   "source": [
    "texts = [clean(word_tokenize(text.lower())) for text in habr_texts]"
   ]
  },
  {
   "cell_type": "code",
   "execution_count": 4,
   "metadata": {},
   "outputs": [],
   "source": [
    "#texts[:10]"
   ]
  },
  {
   "cell_type": "code",
   "execution_count": 9,
   "metadata": {
    "scrolled": true
   },
   "outputs": [],
   "source": [
    "# для нграммов\n",
    "ph = gensim.models.Phrases(texts, scoring='npmi', threshold=0.4) # threshold можно подбирать\n",
    "p = gensim.models.phrases.Phraser(ph)\n",
    "ngrammed_texts = p[texts]"
   ]
  },
  {
   "cell_type": "markdown",
   "metadata": {},
   "source": [
    "Для моделей нужно сделать словарь."
   ]
  },
  {
   "cell_type": "code",
   "execution_count": 10,
   "metadata": {},
   "outputs": [],
   "source": [
    "dictinary = gensim.corpora.Dictionary(texts)"
   ]
  },
  {
   "cell_type": "code",
   "execution_count": 11,
   "metadata": {},
   "outputs": [],
   "source": [
    "dictinary.filter_extremes(no_above=0.3, no_below=30)\n",
    "dictinary.compactify()"
   ]
  },
  {
   "cell_type": "code",
   "execution_count": 12,
   "metadata": {},
   "outputs": [
    {
     "name": "stdout",
     "output_type": "stream",
     "text": [
      "Dictionary(7649 unique tokens: ['.net', '2-х', '3.0', 'address', 'api']...)\n"
     ]
    }
   ],
   "source": [
    "print(dictinary)"
   ]
  },
  {
   "cell_type": "markdown",
   "metadata": {},
   "source": [
    "4) постройте несколько LDA моделей (переберите количество тем, можете поменять eta, alpha, passes), если получаются плохие темы, поработайте дополнительно над предобработкой и словарем;\n",
    "\n",
    "5) для самой хорошей модели в отдельной ячейке напечатайте 3 хороших (на ваш вкус) темы;"
   ]
  },
  {
   "cell_type": "code",
   "execution_count": 13,
   "metadata": {},
   "outputs": [],
   "source": [
    "corpus = [dictinary.doc2bow(text) for text in texts]\n"
   ]
  },
  {
   "cell_type": "markdown",
   "metadata": {},
   "source": [
    "Перебираем несколько моделей. Выведем результаты последней, которые получились лучше всего"
   ]
  },
  {
   "cell_type": "code",
   "execution_count": 14,
   "metadata": {},
   "outputs": [
    {
     "name": "stderr",
     "output_type": "stream",
     "text": [
      "C:\\Users\\ksenia\\Anaconda3\\lib\\site-packages\\gensim\\models\\ldamodel.py:1023: RuntimeWarning: divide by zero encountered in log\n",
      "  diff = np.log(self.expElogbeta)\n"
     ]
    }
   ],
   "source": [
    "lda = gensim.models.LdaMulticore(corpus, 100, id2word=dictinary, passes=1) # если поддерживается многопоточность\n"
   ]
  },
  {
   "cell_type": "code",
   "execution_count": 15,
   "metadata": {},
   "outputs": [],
   "source": [
    "#lda.print_topics()"
   ]
  },
  {
   "cell_type": "code",
   "execution_count": 16,
   "metadata": {},
   "outputs": [],
   "source": [
    "lda1 = gensim.models.LdaMulticore(corpus, 10, id2word=dictinary, passes=1) "
   ]
  },
  {
   "cell_type": "code",
   "execution_count": 26,
   "metadata": {},
   "outputs": [],
   "source": [
    "#lda1.print_topics()"
   ]
  },
  {
   "cell_type": "code",
   "execution_count": 17,
   "metadata": {},
   "outputs": [],
   "source": [
    "lda2 = gensim.models.LdaMulticore(corpus, 5, id2word=dictinary, passes=3) \n",
    "#вот это выглядит неплохо"
   ]
  },
  {
   "cell_type": "code",
   "execution_count": 31,
   "metadata": {},
   "outputs": [],
   "source": [
    "#lda2.print_topics()"
   ]
  },
  {
   "cell_type": "code",
   "execution_count": 18,
   "metadata": {},
   "outputs": [],
   "source": [
    "lda3 = gensim.models.LdaMulticore(corpus, 7, id2word=dictinary, passes=10) "
   ]
  },
  {
   "cell_type": "code",
   "execution_count": 23,
   "metadata": {},
   "outputs": [],
   "source": [
    "#lda3.print_topics()"
   ]
  },
  {
   "cell_type": "markdown",
   "metadata": {},
   "source": [
    "Третья модель оказалась самой удачной. Вот несколько хороших тем из нее."
   ]
  },
  {
   "cell_type": "code",
   "execution_count": 24,
   "metadata": {},
   "outputs": [
    {
     "data": {
      "text/plain": [
       "(2,\n",
       " '0.008*\"значение\" + 0.006*\"язык\" + 0.005*\"модель\" + 0.004*\"элемент\" + 0.004*\"точка\" + 0.004*\"алгоритм\" + 0.004*\"текст\" + 0.004*\"изображение\" + 0.004*\"цикл\" + 0.004*\"объект\"')"
      ]
     },
     "execution_count": 24,
     "metadata": {},
     "output_type": "execute_result"
    }
   ],
   "source": [
    "lda3.print_topics()[2]"
   ]
  },
  {
   "cell_type": "code",
   "execution_count": 25,
   "metadata": {},
   "outputs": [
    {
     "data": {
      "text/plain": [
       "(3,\n",
       " '0.019*\"игра\" + 0.007*\"игрок\" + 0.005*\"массив\" + 0.004*\"технология\" + 0.004*\"машина\" + 0.004*\"доклад\" + 0.004*\"виртуальный\" + 0.003*\"подход\" + 0.003*\"режим\" + 0.003*\"облачный\"')"
      ]
     },
     "execution_count": 25,
     "metadata": {},
     "output_type": "execute_result"
    }
   ],
   "source": [
    "lda3.print_topics()[3]"
   ]
  },
  {
   "cell_type": "code",
   "execution_count": 27,
   "metadata": {},
   "outputs": [
    {
     "data": {
      "text/plain": [
       "(4,\n",
       " '0.013*\"устройство\" + 0.008*\"сеть\" + 0.005*\"сервер\" + 0.005*\"доступ\" + 0.004*\"безопасность\" + 0.004*\"управление\" + 0.003*\"технология\" + 0.003*\"правило\" + 0.003*\"связь\" + 0.003*\"рабочий\"')"
      ]
     },
     "execution_count": 27,
     "metadata": {},
     "output_type": "execute_result"
    }
   ],
   "source": [
    "lda3.print_topics()[4]"
   ]
  },
  {
   "cell_type": "markdown",
   "metadata": {},
   "source": [
    "Мы, кажется, не убрали стоп-слова! Надо исправляться"
   ]
  },
  {
   "cell_type": "code",
   "execution_count": 28,
   "metadata": {},
   "outputs": [],
   "source": [
    "import nltk\n",
    "from nltk.corpus import stopwords"
   ]
  },
  {
   "cell_type": "code",
   "execution_count": 31,
   "metadata": {},
   "outputs": [],
   "source": [
    "def stop_word(ttext):\n",
    "    filtered_words = [word for word in ttext if word not in stopwords.words('russian')]\n",
    "    return filtered_words"
   ]
  },
  {
   "cell_type": "code",
   "execution_count": 32,
   "metadata": {},
   "outputs": [],
   "source": [
    "def all_stop(ttexts):\n",
    "    return [stop_word(ttext) for ttext in ttexts]\n"
   ]
  },
  {
   "cell_type": "code",
   "execution_count": 33,
   "metadata": {},
   "outputs": [],
   "source": [
    "cleaned = all_stop(texts)"
   ]
  },
  {
   "cell_type": "code",
   "execution_count": 34,
   "metadata": {},
   "outputs": [],
   "source": [
    "dictinary2 = gensim.corpora.Dictionary(cleaned)"
   ]
  },
  {
   "cell_type": "code",
   "execution_count": 35,
   "metadata": {},
   "outputs": [],
   "source": [
    "dictinary2.filter_extremes(no_above=0.3, no_below=45)\n",
    "dictinary2.compactify()"
   ]
  },
  {
   "cell_type": "code",
   "execution_count": 36,
   "metadata": {},
   "outputs": [
    {
     "name": "stdout",
     "output_type": "stream",
     "text": [
      "Dictionary(5651 unique tokens: ['.net', '2-х', '3.0', 'address', 'api']...)\n"
     ]
    }
   ],
   "source": [
    "print(dictinary2)"
   ]
  },
  {
   "cell_type": "code",
   "execution_count": 40,
   "metadata": {},
   "outputs": [],
   "source": [
    "corpus = [dictinary2.doc2bow(text) for text in cleaned]"
   ]
  },
  {
   "cell_type": "code",
   "execution_count": 41,
   "metadata": {},
   "outputs": [],
   "source": [
    "lda4 = gensim.models.LdaMulticore(corpus, 10, id2word=dictinary2, passes=1) # если поддерживается многопоточность\n"
   ]
  },
  {
   "cell_type": "code",
   "execution_count": 43,
   "metadata": {},
   "outputs": [],
   "source": [
    "#lda4.print_topics()"
   ]
  },
  {
   "cell_type": "code",
   "execution_count": 44,
   "metadata": {},
   "outputs": [
    {
     "data": {
      "text/plain": [
       "[(0,\n",
       "  '0.007*\"сеть\" + 0.006*\"сайт\" + 0.004*\"доступ\" + 0.004*\"безопасность\" + 0.003*\"технология\" + 0.003*\"услуга\" + 0.003*\"интернет\" + 0.003*\"точка\" + 0.003*\"клиент\" + 0.003*\"сервис\"'),\n",
       " (1,\n",
       "  '0.011*\"игра\" + 0.004*\"игрок\" + 0.003*\"друг\" + 0.003*\"какой-то\" + 0.003*\"исследование\" + 0.003*\"что-то\" + 0.002*\"понять\" + 0.002*\"мозг\" + 0.002*\"продукт\" + 0.002*\"играть\"'),\n",
       " (2,\n",
       "  '0.062*\"lt\" + 0.061*\"gt\" + 0.012*\"if\" + 0.011*\"объект\" + 0.010*\"public\" + 0.008*\"int\" + 0.008*\"string\" + 0.008*\"return\" + 0.007*\"класс\" + 0.006*\"метод\"'),\n",
       " (3,\n",
       "  '0.008*\"файл\" + 0.008*\"устройство\" + 0.005*\"сеть\" + 0.005*\"сервер\" + 0.004*\"модуль\" + 0.004*\"программа\" + 0.004*\"машина\" + 0.003*\"режим\" + 0.003*\"канал\" + 0.003*\"память\"'),\n",
       " (4,\n",
       "  '0.013*\"файл\" + 0.009*\"gt\" + 0.007*\"запрос\" + 0.007*\"сервер\" + 0.007*\"in\" + 0.006*\"from\" + 0.005*\"client\" + 0.005*\"строка\" + 0.004*\"ключ\" + 0.004*\"name\"'),\n",
       " (5,\n",
       "  '0.006*\"устройство\" + 0.006*\"температура\" + 0.005*\"вакансия\" + 0.004*\"скорость\" + 0.004*\"датчик\" + 0.004*\"кампания\" + 0.003*\"страна\" + 0.003*\"сеть\" + 0.003*\"amp\" + 0.003*\"группа\"'),\n",
       " (6,\n",
       "  '0.079*\"gt\" + 0.027*\"lt\" + 0.022*\"result\" + 0.018*\"return\" + 0.017*\"function\" + 0.013*\"+=\" + 0.012*\"for\" + 0.009*\"\\\\n\" + 0.009*\"let\" + 0.007*\"user\"')]"
      ]
     },
     "execution_count": 44,
     "metadata": {},
     "output_type": "execute_result"
    }
   ],
   "source": [
    "lda5 = gensim.models.LdaMulticore(corpus, 7, id2word=dictinary2, passes=5)\n",
    "lda5.print_topics()"
   ]
  },
  {
   "cell_type": "code",
   "execution_count": 45,
   "metadata": {},
   "outputs": [
    {
     "data": {
      "text/plain": [
       "(0,\n",
       " '0.007*\"сеть\" + 0.006*\"сайт\" + 0.004*\"доступ\" + 0.004*\"безопасность\" + 0.003*\"технология\" + 0.003*\"услуга\" + 0.003*\"интернет\" + 0.003*\"точка\" + 0.003*\"клиент\" + 0.003*\"сервис\"')"
      ]
     },
     "execution_count": 45,
     "metadata": {},
     "output_type": "execute_result"
    }
   ],
   "source": [
    "lda5.print_topics()[0]"
   ]
  },
  {
   "cell_type": "code",
   "execution_count": 46,
   "metadata": {},
   "outputs": [
    {
     "data": {
      "text/plain": [
       "(1,\n",
       " '0.011*\"игра\" + 0.004*\"игрок\" + 0.003*\"друг\" + 0.003*\"какой-то\" + 0.003*\"исследование\" + 0.003*\"что-то\" + 0.002*\"понять\" + 0.002*\"мозг\" + 0.002*\"продукт\" + 0.002*\"играть\"')"
      ]
     },
     "execution_count": 46,
     "metadata": {},
     "output_type": "execute_result"
    }
   ],
   "source": [
    "lda5.print_topics()[1]"
   ]
  },
  {
   "cell_type": "code",
   "execution_count": 47,
   "metadata": {},
   "outputs": [
    {
     "data": {
      "text/plain": [
       "(3,\n",
       " '0.008*\"файл\" + 0.008*\"устройство\" + 0.005*\"сеть\" + 0.005*\"сервер\" + 0.004*\"модуль\" + 0.004*\"программа\" + 0.004*\"машина\" + 0.003*\"режим\" + 0.003*\"канал\" + 0.003*\"память\"')"
      ]
     },
     "execution_count": 47,
     "metadata": {},
     "output_type": "execute_result"
    }
   ],
   "source": [
    "lda5.print_topics()[3]"
   ]
  },
  {
   "cell_type": "markdown",
   "metadata": {},
   "source": [
    "6) между словарем и обучением модели добавьте tfidf (gensim.models.TfidfModel(corpus, id2word=dictionary); corpus = tfidf[corpus]);\n",
    "\n",
    "7) заново обучите LDA c теми же параметрами (параметрами самой лучшей модели, заново перебирать не нужно);\n",
    "\n",
    "8) в отдельной ячейке опишите как изменилась модель (приведите несколько тем, которые стали лучше или хуже, или которых раньше вообще не было; можно привести значения перплексии и когерентности для обеих моделей)\n",
    "\n",
    "9) проделайте такие же действия для NMF (образец в конце тетрадки), для построения словаря воспользуйтесь возможностями Count или Tfidf Vectorizer (попробуйте другие значение max_features, min_df, max_df, сделайте нграмы через ngram_range, если хватает памяти), попробуйте такие же количества тем\n",
    "\n",
    "10) в отдельной ячейки напечатайте таблицу с темами лучшей NMF модели, сравните их с теми, что получились в LDA."
   ]
  },
  {
   "cell_type": "code",
   "execution_count": 48,
   "metadata": {},
   "outputs": [],
   "source": [
    "from gensim.models import TfidfModel"
   ]
  },
  {
   "cell_type": "code",
   "execution_count": 50,
   "metadata": {},
   "outputs": [],
   "source": [
    "gensim.models.TfidfModel(corpus, id2word=dictinary2); "
   ]
  },
  {
   "cell_type": "code",
   "execution_count": 52,
   "metadata": {},
   "outputs": [
    {
     "data": {
      "text/plain": [
       "[(0,\n",
       "  '0.040*\"gt\" + 0.031*\"lt\" + 0.006*\"файл\" + 0.006*\"return\" + 0.005*\"result\" + 0.005*\"if\" + 0.004*\"function\" + 0.004*\"public\" + 0.004*\"+=\" + 0.003*\"amp\"'),\n",
       " (1,\n",
       "  '0.006*\"gt\" + 0.004*\"игра\" + 0.004*\"lt\" + 0.004*\"файл\" + 0.004*\"сеть\" + 0.003*\"массив\" + 0.002*\"сайт\" + 0.002*\"устройство\" + 0.002*\"сервер\" + 0.002*\"объект\"'),\n",
       " (2,\n",
       "  '0.004*\"устройство\" + 0.003*\"модуль\" + 0.003*\"игра\" + 0.003*\"игрок\" + 0.002*\"gt\" + 0.002*\"клиент\" + 0.002*\"группа\" + 0.002*\"сеть\" + 0.002*\"сервер\" + 0.002*\"сайт\"'),\n",
       " (3,\n",
       "  '0.019*\"gt\" + 0.009*\"lt\" + 0.004*\"return\" + 0.003*\"result\" + 0.003*\"for\" + 0.003*\"игра\" + 0.003*\"устройство\" + 0.002*\"значение\" + 0.002*\"объект\" + 0.002*\"function\"'),\n",
       " (4,\n",
       "  '0.024*\"gt\" + 0.012*\"lt\" + 0.004*\"сеть\" + 0.004*\"сайт\" + 0.004*\"return\" + 0.003*\"файл\" + 0.003*\"объект\" + 0.003*\"сервер\" + 0.003*\"значение\" + 0.003*\"сообщение\"'),\n",
       " (5,\n",
       "  '0.011*\"lt\" + 0.009*\"gt\" + 0.005*\"игра\" + 0.004*\"файл\" + 0.003*\"result\" + 0.003*\"сеть\" + 0.003*\"игрок\" + 0.002*\"return\" + 0.002*\"элемент\" + 0.002*\"for\"'),\n",
       " (6,\n",
       "  '0.004*\"игра\" + 0.003*\"устройство\" + 0.003*\"gt\" + 0.003*\"lt\" + 0.002*\"файл\" + 0.002*\"сервер\" + 0.002*\"технология\" + 0.002*\"модель\" + 0.002*\"программа\" + 0.002*\"мозг\"')]"
      ]
     },
     "execution_count": 52,
     "metadata": {},
     "output_type": "execute_result"
    }
   ],
   "source": [
    "lda5 = gensim.models.LdaMulticore(corpus, 7, id2word=dictinary2, passes=1)\n",
    "lda5.print_topics()"
   ]
  },
  {
   "cell_type": "markdown",
   "metadata": {},
   "source": [
    "Кажется, что лучше не стало. В целом многие темы оказываются загрязненными терминами из языков программирования, лучше всего выделяются темы, связанные с современными технологиями, играми и устройством сайтов, и наборы слов для них "
   ]
  },
  {
   "cell_type": "code",
   "execution_count": 53,
   "metadata": {},
   "outputs": [],
   "source": [
    "from sklearn.decomposition import NMF\n",
    "from sklearn.feature_extraction.text import CountVectorizer, TfidfVectorizer\n",
    "import pandas as pd"
   ]
  },
  {
   "cell_type": "code",
   "execution_count": 54,
   "metadata": {},
   "outputs": [],
   "source": [
    "stexts = [' '.join(text) for text in cleaned]"
   ]
  },
  {
   "cell_type": "code",
   "execution_count": 55,
   "metadata": {},
   "outputs": [],
   "source": [
    "vectorizer = TfidfVectorizer(max_features=25000, min_df=5, max_df=0.3, lowercase=False)\n",
    "X = vectorizer.fit_transform(stexts)"
   ]
  },
  {
   "cell_type": "code",
   "execution_count": 56,
   "metadata": {},
   "outputs": [],
   "source": [
    "model = NMF(n_components=30)"
   ]
  },
  {
   "cell_type": "code",
   "execution_count": 57,
   "metadata": {},
   "outputs": [
    {
     "data": {
      "text/plain": [
       "NMF(alpha=0.0, beta_loss='frobenius', init=None, l1_ratio=0.0, max_iter=200,\n",
       "  n_components=30, random_state=None, shuffle=False, solver='cd',\n",
       "  tol=0.0001, verbose=0)"
      ]
     },
     "execution_count": 57,
     "metadata": {},
     "output_type": "execute_result"
    }
   ],
   "source": [
    "model.fit(X)"
   ]
  },
  {
   "cell_type": "code",
   "execution_count": 58,
   "metadata": {},
   "outputs": [],
   "source": [
    "def get_nmf_topics(model, n_top_words):\n",
    "    \n",
    "    #id слов.\n",
    "    feat_names = vectorizer.get_feature_names()\n",
    "    \n",
    "    word_dict = {};\n",
    "    for i in range(30):\n",
    "        \n",
    "        #топ n слов для темы.\n",
    "        words_ids = model.components_[i].argsort()[:-n_top_words - 1:-1]\n",
    "        words = [feat_names[key] for key in words_ids]\n",
    "        word_dict['Topic # ' + '{:02d}'.format(i+1)] = words;\n",
    "    \n",
    "    return pd.DataFrame(word_dict);"
   ]
  },
  {
   "cell_type": "code",
   "execution_count": 59,
   "metadata": {},
   "outputs": [
    {
     "data": {
      "text/html": [
       "<div>\n",
       "<style scoped>\n",
       "    .dataframe tbody tr th:only-of-type {\n",
       "        vertical-align: middle;\n",
       "    }\n",
       "\n",
       "    .dataframe tbody tr th {\n",
       "        vertical-align: top;\n",
       "    }\n",
       "\n",
       "    .dataframe thead th {\n",
       "        text-align: right;\n",
       "    }\n",
       "</style>\n",
       "<table border=\"1\" class=\"dataframe\">\n",
       "  <thead>\n",
       "    <tr style=\"text-align: right;\">\n",
       "      <th></th>\n",
       "      <th>Topic # 01</th>\n",
       "      <th>Topic # 02</th>\n",
       "      <th>Topic # 03</th>\n",
       "      <th>Topic # 04</th>\n",
       "      <th>Topic # 05</th>\n",
       "      <th>Topic # 06</th>\n",
       "      <th>Topic # 07</th>\n",
       "      <th>Topic # 08</th>\n",
       "      <th>Topic # 09</th>\n",
       "      <th>Topic # 10</th>\n",
       "      <th>...</th>\n",
       "      <th>Topic # 21</th>\n",
       "      <th>Topic # 22</th>\n",
       "      <th>Topic # 23</th>\n",
       "      <th>Topic # 24</th>\n",
       "      <th>Topic # 25</th>\n",
       "      <th>Topic # 26</th>\n",
       "      <th>Topic # 27</th>\n",
       "      <th>Topic # 28</th>\n",
       "      <th>Topic # 29</th>\n",
       "      <th>Topic # 30</th>\n",
       "    </tr>\n",
       "  </thead>\n",
       "  <tbody>\n",
       "    <tr>\n",
       "      <th>0</th>\n",
       "      <td>продукт</td>\n",
       "      <td>gt</td>\n",
       "      <td>игра</td>\n",
       "      <td>космический</td>\n",
       "      <td>объект</td>\n",
       "      <td>сеть</td>\n",
       "      <td>звук</td>\n",
       "      <td>js</td>\n",
       "      <td>windows</td>\n",
       "      <td>файл</td>\n",
       "      <td>...</td>\n",
       "      <td>язык</td>\n",
       "      <td>товар</td>\n",
       "      <td>public</td>\n",
       "      <td>дата</td>\n",
       "      <td>бот</td>\n",
       "      <td>камера</td>\n",
       "      <td>российский</td>\n",
       "      <td>if</td>\n",
       "      <td>the</td>\n",
       "      <td>сайт</td>\n",
       "    </tr>\n",
       "    <tr>\n",
       "      <th>1</th>\n",
       "      <td>клиент</td>\n",
       "      <td>lt</td>\n",
       "      <td>игрок</td>\n",
       "      <td>спутник</td>\n",
       "      <td>значение</td>\n",
       "      <td>трафик</td>\n",
       "      <td>сигнал</td>\n",
       "      <td>react</td>\n",
       "      <td>microsoft</td>\n",
       "      <td>docker</td>\n",
       "      <td>...</td>\n",
       "      <td>программирование</td>\n",
       "      <td>скидка</td>\n",
       "      <td>string</td>\n",
       "      <td>центр</td>\n",
       "      <td>telegram</td>\n",
       "      <td>устройство</td>\n",
       "      <td>рынок</td>\n",
       "      <td>int</td>\n",
       "      <td>of</td>\n",
       "      <td>страница</td>\n",
       "    </tr>\n",
       "    <tr>\n",
       "      <th>2</th>\n",
       "      <td>сотрудник</td>\n",
       "      <td>div</td>\n",
       "      <td>игровой</td>\n",
       "      <td>орбита</td>\n",
       "      <td>элемент</td>\n",
       "      <td>связь</td>\n",
       "      <td>наушник</td>\n",
       "      <td>css</td>\n",
       "      <td>linux</td>\n",
       "      <td>сервер</td>\n",
       "      <td>...</td>\n",
       "      <td>php</td>\n",
       "      <td>магазин</td>\n",
       "      <td>void</td>\n",
       "      <td>сервер</td>\n",
       "      <td>сообщение</td>\n",
       "      <td>смартфон</td>\n",
       "      <td>страна</td>\n",
       "      <td>amp</td>\n",
       "      <td>to</td>\n",
       "      <td>реклама</td>\n",
       "    </tr>\n",
       "    <tr>\n",
       "      <th>3</th>\n",
       "      <td>бизнес</td>\n",
       "      <td>class</td>\n",
       "      <td>играть</td>\n",
       "      <td>ракета</td>\n",
       "      <td>метод</td>\n",
       "      <td>оператор</td>\n",
       "      <td>усилитель</td>\n",
       "      <td>javascript</td>\n",
       "      <td>studio</td>\n",
       "      <td>php</td>\n",
       "      <td>...</td>\n",
       "      <td>программист</td>\n",
       "      <td>цена</td>\n",
       "      <td>new</td>\n",
       "      <td>инфраструктура</td>\n",
       "      <td>телеграм</td>\n",
       "      <td>аккумулятор</td>\n",
       "      <td>россия</td>\n",
       "      <td>lt</td>\n",
       "      <td>in</td>\n",
       "      <td>браузер</td>\n",
       "    </tr>\n",
       "    <tr>\n",
       "      <th>4</th>\n",
       "      <td>менеджер</td>\n",
       "      <td>name</td>\n",
       "      <td>vr</td>\n",
       "      <td>марс</td>\n",
       "      <td>блок</td>\n",
       "      <td>ip</td>\n",
       "      <td>частота</td>\n",
       "      <td>angular</td>\n",
       "      <td>visual</td>\n",
       "      <td>sudo</td>\n",
       "      <td>...</td>\n",
       "      <td>лекция</td>\n",
       "      <td>распродажа</td>\n",
       "      <td>this</td>\n",
       "      <td>облачный</td>\n",
       "      <td>чат</td>\n",
       "      <td>датчик</td>\n",
       "      <td>налог</td>\n",
       "      <td>return</td>\n",
       "      <td>and</td>\n",
       "      <td>контент</td>\n",
       "    </tr>\n",
       "    <tr>\n",
       "      <th>5</th>\n",
       "      <td>crm</td>\n",
       "      <td>this</td>\n",
       "      <td>персонаж</td>\n",
       "      <td>аппарат</td>\n",
       "      <td>строка</td>\n",
       "      <td>интернет</td>\n",
       "      <td>звуковой</td>\n",
       "      <td>веб</td>\n",
       "      <td>net</td>\n",
       "      <td>http</td>\n",
       "      <td>...</td>\n",
       "      <td>java</td>\n",
       "      <td>покупатель</td>\n",
       "      <td>return</td>\n",
       "      <td>облако</td>\n",
       "      <td>bot</td>\n",
       "      <td>телефон</td>\n",
       "      <td>рубль</td>\n",
       "      <td>else</td>\n",
       "      <td>is</td>\n",
       "      <td>google</td>\n",
       "    </tr>\n",
       "    <tr>\n",
       "      <th>6</th>\n",
       "      <td>заказчик</td>\n",
       "      <td>props</td>\n",
       "      <td>steam</td>\n",
       "      <td>земля</td>\n",
       "      <td>алгоритм</td>\n",
       "      <td>dpi</td>\n",
       "      <td>музыка</td>\n",
       "      <td>vue</td>\n",
       "      <td>azure</td>\n",
       "      <td>nginx</td>\n",
       "      <td>...</td>\n",
       "      <td>перевод</td>\n",
       "      <td>пятница</td>\n",
       "      <td>private</td>\n",
       "      <td>услуга</td>\n",
       "      <td>api</td>\n",
       "      <td>видео</td>\n",
       "      <td>доход</td>\n",
       "      <td>null</td>\n",
       "      <td>on</td>\n",
       "      <td>домен</td>\n",
       "    </tr>\n",
       "    <tr>\n",
       "      <th>7</th>\n",
       "      <td>программист</td>\n",
       "      <td>html</td>\n",
       "      <td>unity</td>\n",
       "      <td>луна</td>\n",
       "      <td>класс</td>\n",
       "      <td>устройство</td>\n",
       "      <td>искажение</td>\n",
       "      <td>браузер</td>\n",
       "      <td>браузер</td>\n",
       "      <td>скрипт</td>\n",
       "      <td>...</td>\n",
       "      <td>программа</td>\n",
       "      <td>покупка</td>\n",
       "      <td>var</td>\n",
       "      <td>оборудование</td>\n",
       "      <td>мессенджер</td>\n",
       "      <td>экран</td>\n",
       "      <td>закон</td>\n",
       "      <td>char</td>\n",
       "      <td>for</td>\n",
       "      <td>рекламный</td>\n",
       "    </tr>\n",
       "    <tr>\n",
       "      <th>8</th>\n",
       "      <td>опыт</td>\n",
       "      <td>return</td>\n",
       "      <td>геймплей</td>\n",
       "      <td>наса</td>\n",
       "      <td>текстура</td>\n",
       "      <td>канал</td>\n",
       "      <td>акустический</td>\n",
       "      <td>компонент</td>\n",
       "      <td>обновление</td>\n",
       "      <td>etc</td>\n",
       "      <td>...</td>\n",
       "      <td>курс</td>\n",
       "      <td>чёрный</td>\n",
       "      <td>класс</td>\n",
       "      <td>цод</td>\n",
       "      <td>канал</td>\n",
       "      <td>корпус</td>\n",
       "      <td>деньга</td>\n",
       "      <td>void</td>\n",
       "      <td>from</td>\n",
       "      <td>com</td>\n",
       "    </tr>\n",
       "    <tr>\n",
       "      <th>9</th>\n",
       "      <td>тестирование</td>\n",
       "      <td>type</td>\n",
       "      <td>движок</td>\n",
       "      <td>полёт</td>\n",
       "      <td>точка</td>\n",
       "      <td>сетевой</td>\n",
       "      <td>напряжение</td>\n",
       "      <td>dom</td>\n",
       "      <td>server</td>\n",
       "      <td>usr</td>\n",
       "      <td>...</td>\n",
       "      <td>python</td>\n",
       "      <td>продавец</td>\n",
       "      <td>class</td>\n",
       "      <td>сервис</td>\n",
       "      <td>message</td>\n",
       "      <td>дисплей</td>\n",
       "      <td>бизнес</td>\n",
       "      <td>std</td>\n",
       "      <td>you</td>\n",
       "      <td>сервер</td>\n",
       "    </tr>\n",
       "  </tbody>\n",
       "</table>\n",
       "<p>10 rows × 30 columns</p>\n",
       "</div>"
      ],
      "text/plain": [
       "     Topic # 01 Topic # 02 Topic # 03   Topic # 04 Topic # 05  Topic # 06  \\\n",
       "0       продукт         gt       игра  космический     объект        сеть   \n",
       "1        клиент         lt      игрок      спутник   значение      трафик   \n",
       "2     сотрудник        div    игровой       орбита    элемент       связь   \n",
       "3        бизнес      class     играть       ракета      метод    оператор   \n",
       "4      менеджер       name         vr         марс       блок          ip   \n",
       "5           crm       this   персонаж      аппарат     строка    интернет   \n",
       "6      заказчик      props      steam        земля   алгоритм         dpi   \n",
       "7   программист       html      unity         луна      класс  устройство   \n",
       "8          опыт     return   геймплей         наса   текстура       канал   \n",
       "9  тестирование       type     движок        полёт      точка     сетевой   \n",
       "\n",
       "     Topic # 07  Topic # 08  Topic # 09 Topic # 10    ...      \\\n",
       "0          звук          js     windows       файл    ...       \n",
       "1        сигнал       react   microsoft     docker    ...       \n",
       "2       наушник         css       linux     сервер    ...       \n",
       "3     усилитель  javascript      studio        php    ...       \n",
       "4       частота     angular      visual       sudo    ...       \n",
       "5      звуковой         веб         net       http    ...       \n",
       "6        музыка         vue       azure      nginx    ...       \n",
       "7     искажение     браузер     браузер     скрипт    ...       \n",
       "8  акустический   компонент  обновление        etc    ...       \n",
       "9    напряжение         dom      server        usr    ...       \n",
       "\n",
       "         Topic # 21  Topic # 22 Topic # 23      Topic # 24  Topic # 25  \\\n",
       "0              язык       товар     public            дата         бот   \n",
       "1  программирование      скидка     string           центр    telegram   \n",
       "2               php     магазин       void          сервер   сообщение   \n",
       "3       программист        цена        new  инфраструктура    телеграм   \n",
       "4            лекция  распродажа       this        облачный         чат   \n",
       "5              java  покупатель     return          облако         bot   \n",
       "6           перевод     пятница    private          услуга         api   \n",
       "7         программа     покупка        var    оборудование  мессенджер   \n",
       "8              курс      чёрный      класс             цод       канал   \n",
       "9            python    продавец      class          сервис     message   \n",
       "\n",
       "    Topic # 26  Topic # 27 Topic # 28 Topic # 29 Topic # 30  \n",
       "0       камера  российский         if        the       сайт  \n",
       "1   устройство       рынок        int         of   страница  \n",
       "2     смартфон      страна        amp         to    реклама  \n",
       "3  аккумулятор      россия         lt         in    браузер  \n",
       "4       датчик       налог     return        and    контент  \n",
       "5      телефон       рубль       else         is     google  \n",
       "6        видео       доход       null         on      домен  \n",
       "7        экран       закон       char        for  рекламный  \n",
       "8       корпус      деньга       void       from        com  \n",
       "9      дисплей      бизнес        std        you     сервер  \n",
       "\n",
       "[10 rows x 30 columns]"
      ]
     },
     "execution_count": 59,
     "metadata": {},
     "output_type": "execute_result"
    }
   ],
   "source": [
    "get_nmf_topics(model, 10) "
   ]
  },
  {
   "cell_type": "code",
   "execution_count": 66,
   "metadata": {},
   "outputs": [],
   "source": [
    "vectorizer = TfidfVectorizer(max_features=25000, min_df=6, max_df=0.2, lowercase=False)\n",
    "X = vectorizer.fit_transform(stexts)"
   ]
  },
  {
   "cell_type": "code",
   "execution_count": 67,
   "metadata": {},
   "outputs": [
    {
     "data": {
      "text/plain": [
       "NMF(alpha=0.0, beta_loss='frobenius', init=None, l1_ratio=0.0, max_iter=200,\n",
       "  n_components=30, random_state=None, shuffle=False, solver='cd',\n",
       "  tol=0.0001, verbose=0)"
      ]
     },
     "execution_count": 67,
     "metadata": {},
     "output_type": "execute_result"
    }
   ],
   "source": [
    "model = NMF(n_components=30)\n",
    "model.fit(X)"
   ]
  },
  {
   "cell_type": "code",
   "execution_count": 68,
   "metadata": {},
   "outputs": [
    {
     "data": {
      "text/html": [
       "<div>\n",
       "<style scoped>\n",
       "    .dataframe tbody tr th:only-of-type {\n",
       "        vertical-align: middle;\n",
       "    }\n",
       "\n",
       "    .dataframe tbody tr th {\n",
       "        vertical-align: top;\n",
       "    }\n",
       "\n",
       "    .dataframe thead th {\n",
       "        text-align: right;\n",
       "    }\n",
       "</style>\n",
       "<table border=\"1\" class=\"dataframe\">\n",
       "  <thead>\n",
       "    <tr style=\"text-align: right;\">\n",
       "      <th></th>\n",
       "      <th>Topic # 01</th>\n",
       "      <th>Topic # 02</th>\n",
       "      <th>Topic # 03</th>\n",
       "      <th>Topic # 04</th>\n",
       "      <th>Topic # 05</th>\n",
       "      <th>Topic # 06</th>\n",
       "      <th>Topic # 07</th>\n",
       "      <th>Topic # 08</th>\n",
       "      <th>Topic # 09</th>\n",
       "      <th>Topic # 10</th>\n",
       "      <th>...</th>\n",
       "      <th>Topic # 21</th>\n",
       "      <th>Topic # 22</th>\n",
       "      <th>Topic # 23</th>\n",
       "      <th>Topic # 24</th>\n",
       "      <th>Topic # 25</th>\n",
       "      <th>Topic # 26</th>\n",
       "      <th>Topic # 27</th>\n",
       "      <th>Topic # 28</th>\n",
       "      <th>Topic # 29</th>\n",
       "      <th>Topic # 30</th>\n",
       "    </tr>\n",
       "  </thead>\n",
       "  <tbody>\n",
       "    <tr>\n",
       "      <th>0</th>\n",
       "      <td>бизнес</td>\n",
       "      <td>lt</td>\n",
       "      <td>игра</td>\n",
       "      <td>марс</td>\n",
       "      <td>docker</td>\n",
       "      <td>страница</td>\n",
       "      <td>камера</td>\n",
       "      <td>ракета</td>\n",
       "      <td>android</td>\n",
       "      <td>js</td>\n",
       "      <td>...</td>\n",
       "      <td>бот</td>\n",
       "      <td>пациент</td>\n",
       "      <td>процессор</td>\n",
       "      <td>центр</td>\n",
       "      <td>public</td>\n",
       "      <td>звук</td>\n",
       "      <td>if</td>\n",
       "      <td>vr</td>\n",
       "      <td>php</td>\n",
       "      <td>робот</td>\n",
       "    </tr>\n",
       "    <tr>\n",
       "      <th>1</th>\n",
       "      <td>сотрудник</td>\n",
       "      <td>div</td>\n",
       "      <td>игрок</td>\n",
       "      <td>земля</td>\n",
       "      <td>http</td>\n",
       "      <td>тест</td>\n",
       "      <td>смартфон</td>\n",
       "      <td>спутник</td>\n",
       "      <td>google</td>\n",
       "      <td>react</td>\n",
       "      <td>...</td>\n",
       "      <td>telegram</td>\n",
       "      <td>мозг</td>\n",
       "      <td>диск</td>\n",
       "      <td>дата</td>\n",
       "      <td>string</td>\n",
       "      <td>сигнал</td>\n",
       "      <td>int</td>\n",
       "      <td>виртуальный</td>\n",
       "      <td>symfony</td>\n",
       "      <td>ребёнок</td>\n",
       "    </tr>\n",
       "    <tr>\n",
       "      <th>2</th>\n",
       "      <td>рынок</td>\n",
       "      <td>class</td>\n",
       "      <td>игровой</td>\n",
       "      <td>планета</td>\n",
       "      <td>sudo</td>\n",
       "      <td>запрос</td>\n",
       "      <td>видео</td>\n",
       "      <td>ступень</td>\n",
       "      <td>ios</td>\n",
       "      <td>css</td>\n",
       "      <td>...</td>\n",
       "      <td>сообщение</td>\n",
       "      <td>учёный</td>\n",
       "      <td>память</td>\n",
       "      <td>инфраструктура</td>\n",
       "      <td>void</td>\n",
       "      <td>наушник</td>\n",
       "      <td>amp</td>\n",
       "      <td>реальность</td>\n",
       "      <td>yii</td>\n",
       "      <td>автомобиль</td>\n",
       "    </tr>\n",
       "    <tr>\n",
       "      <th>3</th>\n",
       "      <td>деньга</td>\n",
       "      <td>name</td>\n",
       "      <td>играть</td>\n",
       "      <td>космический</td>\n",
       "      <td>etc</td>\n",
       "      <td>тестирование</td>\n",
       "      <td>регистратор</td>\n",
       "      <td>двигатель</td>\n",
       "      <td>мобильный</td>\n",
       "      <td>javascript</td>\n",
       "      <td>...</td>\n",
       "      <td>чат</td>\n",
       "      <td>клетка</td>\n",
       "      <td>intel</td>\n",
       "      <td>услуга</td>\n",
       "      <td>this</td>\n",
       "      <td>частота</td>\n",
       "      <td>return</td>\n",
       "      <td>oculus</td>\n",
       "      <td>laravel</td>\n",
       "      <td>lego</td>\n",
       "    </tr>\n",
       "    <tr>\n",
       "      <th>4</th>\n",
       "      <td>российский</td>\n",
       "      <td>props</td>\n",
       "      <td>персонаж</td>\n",
       "      <td>луна</td>\n",
       "      <td>nginx</td>\n",
       "      <td>текст</td>\n",
       "      <td>телефон</td>\n",
       "      <td>spacex</td>\n",
       "      <td>app</td>\n",
       "      <td>angular</td>\n",
       "      <td>...</td>\n",
       "      <td>телеграм</td>\n",
       "      <td>заболевание</td>\n",
       "      <td>ssd</td>\n",
       "      <td>облачный</td>\n",
       "      <td>new</td>\n",
       "      <td>усилитель</td>\n",
       "      <td>else</td>\n",
       "      <td>шлем</td>\n",
       "      <td>yii2</td>\n",
       "      <td>датчик</td>\n",
       "    </tr>\n",
       "    <tr>\n",
       "      <th>5</th>\n",
       "      <td>стартап</td>\n",
       "      <td>html</td>\n",
       "      <td>steam</td>\n",
       "      <td>аппарат</td>\n",
       "      <td>ip</td>\n",
       "      <td>строка</td>\n",
       "      <td>карта</td>\n",
       "      <td>космический</td>\n",
       "      <td>swift</td>\n",
       "      <td>веб</td>\n",
       "      <td>...</td>\n",
       "      <td>bot</td>\n",
       "      <td>исследование</td>\n",
       "      <td>ядро</td>\n",
       "      <td>оборудование</td>\n",
       "      <td>return</td>\n",
       "      <td>звуковой</td>\n",
       "      <td>null</td>\n",
       "      <td>vive</td>\n",
       "      <td>api</td>\n",
       "      <td>робототехника</td>\n",
       "    </tr>\n",
       "    <tr>\n",
       "      <th>6</th>\n",
       "      <td>страна</td>\n",
       "      <td>std</td>\n",
       "      <td>unity</td>\n",
       "      <td>орбита</td>\n",
       "      <td>com</td>\n",
       "      <td>блок</td>\n",
       "      <td>аккумулятор</td>\n",
       "      <td>пуск</td>\n",
       "      <td>play</td>\n",
       "      <td>vue</td>\n",
       "      <td>...</td>\n",
       "      <td>api</td>\n",
       "      <td>болезнь</td>\n",
       "      <td>производительность</td>\n",
       "      <td>облако</td>\n",
       "      <td>private</td>\n",
       "      <td>напряжение</td>\n",
       "      <td>char</td>\n",
       "      <td>машина</td>\n",
       "      <td>psr</td>\n",
       "      <td>машина</td>\n",
       "    </tr>\n",
       "    <tr>\n",
       "      <th>7</th>\n",
       "      <td>зарплата</td>\n",
       "      <td>this</td>\n",
       "      <td>геймплей</td>\n",
       "      <td>астероид</td>\n",
       "      <td>168</td>\n",
       "      <td>таблица</td>\n",
       "      <td>экран</td>\n",
       "      <td>орбита</td>\n",
       "      <td>view</td>\n",
       "      <td>браузер</td>\n",
       "      <td>...</td>\n",
       "      <td>канал</td>\n",
       "      <td>ген</td>\n",
       "      <td>накопитель</td>\n",
       "      <td>цод</td>\n",
       "      <td>класс</td>\n",
       "      <td>искажение</td>\n",
       "      <td>void</td>\n",
       "      <td>htc</td>\n",
       "      <td>go</td>\n",
       "      <td>движение</td>\n",
       "    </tr>\n",
       "    <tr>\n",
       "      <th>8</th>\n",
       "      <td>ит</td>\n",
       "      <td>type</td>\n",
       "      <td>движок</td>\n",
       "      <td>солнечный</td>\n",
       "      <td>amp</td>\n",
       "      <td>документ</td>\n",
       "      <td>дисплей</td>\n",
       "      <td>носитель</td>\n",
       "      <td>gradle</td>\n",
       "      <td>html</td>\n",
       "      <td>...</td>\n",
       "      <td>мессенджер</td>\n",
       "      <td>врач</td>\n",
       "      <td>гб</td>\n",
       "      <td>провайдер</td>\n",
       "      <td>class</td>\n",
       "      <td>ток</td>\n",
       "      <td>end</td>\n",
       "      <td>unreal</td>\n",
       "      <td>форум</td>\n",
       "      <td>беспилотный</td>\n",
       "    </tr>\n",
       "    <tr>\n",
       "      <th>9</th>\n",
       "      <td>программист</td>\n",
       "      <td>text</td>\n",
       "      <td>жанр</td>\n",
       "      <td>станция</td>\n",
       "      <td>usr</td>\n",
       "      <td>библиотека</td>\n",
       "      <td>xiaomi</td>\n",
       "      <td>корабль</td>\n",
       "      <td>firebase</td>\n",
       "      <td>компонент</td>\n",
       "      <td>...</td>\n",
       "      <td>message</td>\n",
       "      <td>лечение</td>\n",
       "      <td>компьютер</td>\n",
       "      <td>ит</td>\n",
       "      <td>var</td>\n",
       "      <td>музыка</td>\n",
       "      <td>const</td>\n",
       "      <td>вм</td>\n",
       "      <td>function</td>\n",
       "      <td>дрон</td>\n",
       "    </tr>\n",
       "  </tbody>\n",
       "</table>\n",
       "<p>10 rows × 30 columns</p>\n",
       "</div>"
      ],
      "text/plain": [
       "    Topic # 01 Topic # 02 Topic # 03   Topic # 04 Topic # 05    Topic # 06  \\\n",
       "0       бизнес         lt       игра         марс     docker      страница   \n",
       "1    сотрудник        div      игрок        земля       http          тест   \n",
       "2        рынок      class    игровой      планета       sudo        запрос   \n",
       "3       деньга       name     играть  космический        etc  тестирование   \n",
       "4   российский      props   персонаж         луна      nginx         текст   \n",
       "5      стартап       html      steam      аппарат         ip        строка   \n",
       "6       страна        std      unity       орбита        com          блок   \n",
       "7     зарплата       this   геймплей     астероид        168       таблица   \n",
       "8           ит       type     движок    солнечный        amp      документ   \n",
       "9  программист       text       жанр      станция        usr    библиотека   \n",
       "\n",
       "    Topic # 07   Topic # 08 Topic # 09  Topic # 10      ...        Topic # 21  \\\n",
       "0       камера       ракета    android          js      ...               бот   \n",
       "1     смартфон      спутник     google       react      ...          telegram   \n",
       "2        видео      ступень        ios         css      ...         сообщение   \n",
       "3  регистратор    двигатель  мобильный  javascript      ...               чат   \n",
       "4      телефон       spacex        app     angular      ...          телеграм   \n",
       "5        карта  космический      swift         веб      ...               bot   \n",
       "6  аккумулятор         пуск       play         vue      ...               api   \n",
       "7        экран       орбита       view     браузер      ...             канал   \n",
       "8      дисплей     носитель     gradle        html      ...        мессенджер   \n",
       "9       xiaomi      корабль   firebase   компонент      ...           message   \n",
       "\n",
       "     Topic # 22          Topic # 23      Topic # 24 Topic # 25  Topic # 26  \\\n",
       "0       пациент           процессор           центр     public        звук   \n",
       "1          мозг                диск            дата     string      сигнал   \n",
       "2        учёный              память  инфраструктура       void     наушник   \n",
       "3        клетка               intel          услуга       this     частота   \n",
       "4   заболевание                 ssd        облачный        new   усилитель   \n",
       "5  исследование                ядро    оборудование     return    звуковой   \n",
       "6       болезнь  производительность          облако    private  напряжение   \n",
       "7           ген          накопитель             цод      класс   искажение   \n",
       "8          врач                  гб       провайдер      class         ток   \n",
       "9       лечение           компьютер              ит        var      музыка   \n",
       "\n",
       "  Topic # 27   Topic # 28 Topic # 29     Topic # 30  \n",
       "0         if           vr        php          робот  \n",
       "1        int  виртуальный    symfony        ребёнок  \n",
       "2        amp   реальность        yii     автомобиль  \n",
       "3     return       oculus    laravel           lego  \n",
       "4       else         шлем       yii2         датчик  \n",
       "5       null         vive        api  робототехника  \n",
       "6       char       машина        psr         машина  \n",
       "7       void          htc         go       движение  \n",
       "8        end       unreal      форум    беспилотный  \n",
       "9      const           вм   function           дрон  \n",
       "\n",
       "[10 rows x 30 columns]"
      ]
     },
     "execution_count": 68,
     "metadata": {},
     "output_type": "execute_result"
    }
   ],
   "source": [
    "get_nmf_topics(model, 10) "
   ]
  },
  {
   "cell_type": "markdown",
   "metadata": {},
   "source": [
    "В целом кажется, что последняя модель дала наилучшие результаты. Темы выделяются гораздо лучше, чем в первых моделях."
   ]
  },
  {
   "cell_type": "code",
   "execution_count": null,
   "metadata": {},
   "outputs": [],
   "source": []
  }
 ],
 "metadata": {
  "kernelspec": {
   "display_name": "Python 3",
   "language": "python",
   "name": "python3"
  },
  "language_info": {
   "codemirror_mode": {
    "name": "ipython",
    "version": 3
   },
   "file_extension": ".py",
   "mimetype": "text/x-python",
   "name": "python",
   "nbconvert_exporter": "python",
   "pygments_lexer": "ipython3",
   "version": "3.6.5"
  }
 },
 "nbformat": 4,
 "nbformat_minor": 2
}
