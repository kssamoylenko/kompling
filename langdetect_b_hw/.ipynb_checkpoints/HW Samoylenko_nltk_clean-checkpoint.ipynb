{
 "cells": [
  {
   "cell_type": "markdown",
   "metadata": {},
   "source": [
    "**Этап 1: предобработка текстов**\n",
    "\n",
    "Я создала функцию для предобработки, которая принимает на вход файл с текстом и язык (язык в данном случае нужен для списка стоп-слов из nltk).\n",
    "\n",
    "Главное, что нужно сделать на этапе предобработки для любого языка (я беру языки с латинскими алфавитами, поэтому подходы тут везде довольно схожие) -- удалить знаки препинания, привести все слова к нижнему регистру, токенезировать слова. У меня есть предположение, что стоп-слова, возможно, не стоило убирать, т.к. они могли бы стать ярким маркером для каждого из языков, но давайте сначала попробуем без них, так интереснее :) Кроме того, в функции отрезаем первые 7 строчек в каждом файле, т.к. они служебного характера.\n",
    "\n",
    "Скажу сразу, что у меня два файла с кодом, чтобы не повторять в одном файле код по многу раз. Здесь ради ииследовательского интереса анализируются тексты, предобработка которых включала в себя удаление стоп-слов. Результаты получились не очень впечатляющими (матрица не выдает никакой похожести, частотные списки слабо пересекаются). Но ради интереса можно посмотреть. Основные результаты все-таки в файле, помеченном \"with stop words\". "
   ]
  },
  {
   "cell_type": "code",
   "execution_count": 1,
   "metadata": {
    "collapsed": true
   },
   "outputs": [],
   "source": [
    "import os\n",
    "import re\n",
    "from pprint import pprint\n",
    "from collections import Counter"
   ]
  },
  {
   "cell_type": "code",
   "execution_count": 2,
   "metadata": {
    "collapsed": true
   },
   "outputs": [],
   "source": [
    "import nltk\n",
    "from nltk.corpus import stopwords"
   ]
  },
  {
   "cell_type": "code",
   "execution_count": 3,
   "metadata": {
    "collapsed": true
   },
   "outputs": [],
   "source": [
    "import string\n",
    "def good_text(fn, lang):\n",
    "    with open(\"C:\\\\Users\\\\Ksenia\\\\Documents\\\\GitHub\\\\kssamoylenko\\\\kompling\\\\langdetect_b_hw\\\\udhr\\\\{0}\".format(fn), encoding=\"utf-8\") as f:\n",
    "        lines = f.readlines()\n",
    "        clean_lines = \" \".join([re.sub('[W\\d_-]+', ' ', line.lower().strip()) for line in lines][7:])\n",
    "        clean_lines = clean_lines.translate(str.maketrans('', '', string.punctuation))\n",
    "        words = re.split(' +', clean_lines)\n",
    "        filtered_words = [word for word in words if word not in stopwords.words(lang)]\n",
    "        return \" \".join(filtered_words)"
   ]
  },
  {
   "cell_type": "code",
   "execution_count": 8,
   "metadata": {
    "collapsed": true
   },
   "outputs": [],
   "source": [
    "#print(good_text('udhr_ita.txt', 'italian'))"
   ]
  },
  {
   "cell_type": "code",
   "execution_count": 9,
   "metadata": {
    "collapsed": true
   },
   "outputs": [],
   "source": [
    "good_ita = good_text('udhr_ita.txt', 'italian')"
   ]
  },
  {
   "cell_type": "markdown",
   "metadata": {},
   "source": [
    "Теперь создаем списки наиболее частотных слов и n-граммы:"
   ]
  },
  {
   "cell_type": "code",
   "execution_count": 10,
   "metadata": {
    "collapsed": true
   },
   "outputs": [],
   "source": [
    "from collections import Counter\n",
    "from pprint import pprint"
   ]
  },
  {
   "cell_type": "code",
   "execution_count": 11,
   "metadata": {
    "collapsed": true
   },
   "outputs": [],
   "source": [
    "def kj(data, count):\n",
    "    if (type(data) == str):\n",
    "        data = re.split(' +', data)\n",
    "    return sorted(Counter(data).items(), key=lambda item: -item[1])[:count]"
   ]
  },
  {
   "cell_type": "markdown",
   "metadata": {},
   "source": [
    "Вот здесь получаем очень интересный результат: сначала я сделала функцию без стоп-слов, и в списке наиболее частотных превалировали всевозможные предлги и артикли. После очистки здесь оказались вполне \"живые\" слова, но в топ-300 в итоге попали даже те, которые встречаются только 1 раз, что, по все видимости, не очень хорошо."
   ]
  },
  {
   "cell_type": "code",
   "execution_count": 12,
   "metadata": {},
   "outputs": [
    {
     "data": {
      "text/plain": [
       "[('diritto', 40),\n",
       " ('ogni', 39),\n",
       " ('individuo', 37),\n",
       " ('articolo', 30),\n",
       " ('diritti', 23),\n",
       " ('essere', 23),\n",
       " ('libertà', 21),\n",
       " ('nazioni', 11),\n",
       " ('dichiarazione', 10),\n",
       " ('umani', 10),\n",
       " ('potrà', 9),\n",
       " ('deve', 9),\n",
       " ('unite', 8),\n",
       " ('stato', 8),\n",
       " ('nessun', 8),\n",
       " ('considerato', 7),\n",
       " ('internazionale', 6),\n",
       " ('famiglia', 6),\n",
       " ('sociale', 6),\n",
       " ('proprio', 6),\n",
       " ('universale', 5),\n",
       " ('dignità', 5),\n",
       " ('fondamentali', 5),\n",
       " ('vita', 5),\n",
       " ('rispetto', 5),\n",
       " ('presente', 5),\n",
       " ('società', 5),\n",
       " ('altri', 5),\n",
       " ('senza', 5),\n",
       " ('religione', 5),\n",
       " ('paese', 5),\n",
       " ('qualsiasi', 5),\n",
       " ('legge', 5),\n",
       " ('eguale', 5),\n",
       " ('listruzione', 5),\n",
       " ('generale', 4),\n",
       " ('soltanto', 4),\n",
       " ('riconoscimento', 4),\n",
       " ('umana', 4),\n",
       " ('promuovere', 4),\n",
       " ('sviluppo', 4),\n",
       " ('persona', 4),\n",
       " ('comune', 4),\n",
       " ('tutte', 4),\n",
       " ('alcuna', 4),\n",
       " ('sottoposto', 4),\n",
       " ('personalità', 4),\n",
       " ('discriminazione', 4),\n",
       " ('cittadinanza', 4),\n",
       " ('matrimonio', 4),\n",
       " ('attraverso', 4),\n",
       " ('lavoro', 4),\n",
       " ('protezione', 4),\n",
       " ('lassemblea', 3),\n",
       " ('testo', 3),\n",
       " ('fine', 3),\n",
       " ('lingue', 3),\n",
       " ('membri', 3),\n",
       " ('coscienza', 3),\n",
       " ('credo', 3),\n",
       " ('popoli', 3),\n",
       " ('nazionale', 3),\n",
       " ('fra', 3),\n",
       " ('eguali', 3),\n",
       " ('opinione', 3),\n",
       " ('limitazione', 3),\n",
       " ('sicurezza', 3),\n",
       " ('propria', 3),\n",
       " ('parte', 3),\n",
       " ('tale', 3),\n",
       " ('arbitrariamente', 3),\n",
       " ('reato', 3),\n",
       " ('pubblico', 3),\n",
       " ('secondo', 3),\n",
       " ('godere', 3),\n",
       " ('privato', 3),\n",
       " ('riguardo', 3),\n",
       " ('libero', 3),\n",
       " ('pieno', 3),\n",
       " ('volontà', 3),\n",
       " ('caso', 3),\n",
       " ('diffondere', 2),\n",
       " ('ufficiali', 2),\n",
       " ('possibile', 2),\n",
       " ('mezzo', 2),\n",
       " ('fondamento', 2),\n",
       " ('pace', 2),\n",
       " ('mondo', 2),\n",
       " ('atti', 2),\n",
       " ('esseri', 2),\n",
       " ('delluomo', 2),\n",
       " ('indispensabile', 2),\n",
       " ('costretto', 2),\n",
       " ('statuto', 2),\n",
       " ('progresso', 2),\n",
       " ('tenore', 2),\n",
       " ('stati', 2),\n",
       " ('cooperazione', 2),\n",
       " ('piena', 2),\n",
       " ('realizzazione', 2),\n",
       " ('essi', 2),\n",
       " ('devono', 2),\n",
       " ('verso', 2),\n",
       " ('distinzione', 2),\n",
       " ('razza', 2),\n",
       " ('altro', 2),\n",
       " ('genere', 2),\n",
       " ('base', 2),\n",
       " ('indipendente', 2),\n",
       " ('schiavitù', 2),\n",
       " ('tutela', 2),\n",
       " ('equa', 2),\n",
       " ('doveri', 2),\n",
       " ('nonché', 2),\n",
       " ('egli', 2),\n",
       " ('difesa', 2),\n",
       " ('momento', 2),\n",
       " ('superiore', 2),\n",
       " ('interferenze', 2),\n",
       " ('né', 2),\n",
       " ('incluso', 2),\n",
       " ('cercare', 2),\n",
       " ('fini', 2),\n",
       " ('principi', 2),\n",
       " ('fondare', 2),\n",
       " ('proprietà', 2),\n",
       " ('può', 2),\n",
       " ('partecipare', 2),\n",
       " ('governo', 2),\n",
       " ('liberamente', 2),\n",
       " ('condizioni', 2),\n",
       " ('periodiche', 2),\n",
       " ('libera', 2),\n",
       " ('sociali', 2),\n",
       " ('scelta', 2),\n",
       " ('giuste', 2),\n",
       " ('disoccupazione', 2),\n",
       " ('mezzi', 2),\n",
       " ('interessi', 2),\n",
       " ('benessere', 2),\n",
       " ('cure', 2),\n",
       " ('essa', 2),\n",
       " ('comunità', 2),\n",
       " ('enunciati', 2),\n",
       " ('dicembre', 1),\n",
       " ('approvò', 1),\n",
       " ('proclamò', 1),\n",
       " ('completo', 1),\n",
       " ('stampato', 1),\n",
       " ('pagine', 1),\n",
       " ('seguenti', 1),\n",
       " ('dopo', 1),\n",
       " ('solenne', 1),\n",
       " ('deliberazione', 1),\n",
       " ('diede', 1),\n",
       " ('istruzioni', 1),\n",
       " ('segretario', 1),\n",
       " ('provvedere', 1),\n",
       " ('ampiamente', 1),\n",
       " ('tal', 1),\n",
       " ('pubblicarne', 1),\n",
       " ('distribuirne', 1),\n",
       " ('cinque', 1),\n",
       " ('dellorganizzazione', 1),\n",
       " ('altre', 1),\n",
       " ('usando', 1),\n",
       " ('disposizione', 1),\n",
       " ('ufficiale', 1),\n",
       " ('disponibile', 1),\n",
       " ('cioè', 1),\n",
       " ('cinese', 1),\n",
       " ('francese', 1),\n",
       " ('inglese', 1),\n",
       " ('russo', 1),\n",
       " ('spagnolo', 1),\n",
       " ('preambolo', 1),\n",
       " ('inerente', 1),\n",
       " ('uguali', 1),\n",
       " ('inalienabili', 1),\n",
       " ('costituisce', 1),\n",
       " ('giustizia', 1),\n",
       " ('disconoscimento', 1),\n",
       " ('disprezzo', 1),\n",
       " ('portato', 1),\n",
       " ('barbarie', 1),\n",
       " ('offendono', 1),\n",
       " ('dellumanità', 1),\n",
       " ('lavvento', 1),\n",
       " ('godano', 1),\n",
       " ('parola', 1),\n",
       " ('timore', 1),\n",
       " ('bisogno', 1),\n",
       " ('proclamato', 1),\n",
       " ('alta', 1),\n",
       " ('aspirazione', 1),\n",
       " ('protetti', 1),\n",
       " ('norme', 1),\n",
       " ('giuridiche', 1),\n",
       " ('vuole', 1),\n",
       " ('evitare', 1),\n",
       " ('luomo', 1),\n",
       " ('ricorrere', 1),\n",
       " ('ultima', 1),\n",
       " ('istanza', 1),\n",
       " ('ribellione', 1),\n",
       " ('tirannia', 1),\n",
       " ('loppressione', 1),\n",
       " ('rapporti', 1),\n",
       " ('amichevoli', 1),\n",
       " ('riaffermato', 1),\n",
       " ('fede', 1),\n",
       " ('valore', 1),\n",
       " ('nelluguaglianza', 1),\n",
       " ('donna', 1),\n",
       " ('deciso', 1),\n",
       " ('miglior', 1),\n",
       " ('maggiore', 1),\n",
       " ('impegnati', 1),\n",
       " ('perseguire', 1),\n",
       " ('losservanza', 1),\n",
       " ('concezione', 1),\n",
       " ('massima', 1),\n",
       " ('importanza', 1),\n",
       " ('impegni', 1),\n",
       " ('proclama', 1),\n",
       " ('ideale', 1),\n",
       " ('raggiungersi', 1),\n",
       " ('organo', 1),\n",
       " ('costantemente', 1),\n",
       " ('sforzi', 1),\n",
       " ('linsegnamento', 1),\n",
       " ('leducazione', 1),\n",
       " ('garantirne', 1),\n",
       " ('mediante', 1),\n",
       " ('misure', 1),\n",
       " ('progressive', 1),\n",
       " ('carattere', 1),\n",
       " ('luniversale', 1),\n",
       " ('effettivo', 1),\n",
       " ('tanto', 1),\n",
       " ('territori', 1),\n",
       " ('sottoposti', 1),\n",
       " ('giurisdizione', 1),\n",
       " ('nascono', 1),\n",
       " ('liberi', 1),\n",
       " ('dotati', 1),\n",
       " ('ragione', 1),\n",
       " ('agire', 1),\n",
       " ('uni', 1),\n",
       " ('spirito', 1),\n",
       " ('fratellanza', 1),\n",
       " ('spettano', 1),\n",
       " ('enunciate', 1),\n",
       " ('ragioni', 1),\n",
       " ('colore', 1),\n",
       " ('sesso', 1),\n",
       " ('lingua', 1),\n",
       " ('politica', 1),\n",
       " ('origine', 1),\n",
       " ('ricchezza', 1),\n",
       " ('nascita', 1),\n",
       " ('altra', 1),\n",
       " ('condizione', 1),\n",
       " ('nessuna', 1),\n",
       " ('inoltre', 1),\n",
       " ('stabilita', 1),\n",
       " ('politico', 1),\n",
       " ('giuridico', 1),\n",
       " ('territorio', 1),\n",
       " ('appartiene', 1),\n",
       " ('amministrazione', 1),\n",
       " ('fiduciaria', 1),\n",
       " ('autonomo', 1),\n",
       " ('soggetto', 1),\n",
       " ('sovranità', 1),\n",
       " ('tenuto', 1),\n",
       " ('servitù', 1),\n",
       " ('tratta', 1),\n",
       " ('schiavi', 1),\n",
       " ('proibite', 1),\n",
       " ('sotto', 1),\n",
       " ('forma', 1),\n",
       " ('tortura', 1),\n",
       " ('trattamento', 1),\n",
       " ('punizione', 1),\n",
       " ('crudeli', 1),\n",
       " ('inumani', 1),\n",
       " ('degradanti', 1),\n",
       " ('luogo', 1),\n",
       " ('giuridica', 1),\n",
       " ('dinanzi', 1),\n",
       " ('violi', 1),\n",
       " ('incitamento', 1),\n",
       " ('uneffettiva', 1),\n",
       " ('possibilità', 1),\n",
       " ('ricorso', 1),\n",
       " ('competenti', 1),\n",
       " ('tribunali', 1),\n",
       " ('violino', 1),\n",
       " ('riconosciuti', 1)]"
      ]
     },
     "execution_count": 12,
     "metadata": {},
     "output_type": "execute_result"
    }
   ],
   "source": [
    "kj(good_ita, 300)"
   ]
  },
  {
   "cell_type": "code",
   "execution_count": 13,
   "metadata": {
    "collapsed": true
   },
   "outputs": [],
   "source": [
    "def ngram(str, n):\n",
    "    s = str.split()\n",
    "    ngrams = [\" \".join(s[i:i+n]) for i in range (len(s)-n+1)]\n",
    "    return kj(Counter(ngrams), 150)"
   ]
  },
  {
   "cell_type": "code",
   "execution_count": 14,
   "metadata": {
    "collapsed": true
   },
   "outputs": [],
   "source": [
    "ita_ngrm = ngram(good_ita, 2)\n",
    "#print(ita_ngrm)"
   ]
  },
  {
   "cell_type": "code",
   "execution_count": 15,
   "metadata": {},
   "outputs": [
    {
     "name": "stdout",
     "output_type": "stream",
     "text": [
      "ogni individuo\n",
      "individuo diritto\n",
      "articolo ogni\n",
      "nazioni unite\n",
      "diritti umani\n",
      "potrà essere\n",
      "diritti libertà\n",
      "nessun individuo\n",
      "deve essere\n",
      "individuo potrà\n",
      "presente dichiarazione\n",
      "universale diritti\n",
      "articolo nessun\n",
      "diritto libertà\n",
      "dichiarazione universale\n",
      "rispetto diritti\n",
      "essere sottoposto\n",
      "essere arbitrariamente\n",
      "diritto essere\n",
      "proprio paese\n",
      "sviluppo personalità\n",
      "lassemblea generale\n",
      "lingue ufficiali\n",
      "ogni mezzo\n",
      "esseri umani\n",
      "credo libertà\n",
      "considerato indispensabile\n",
      "tenore vita\n",
      "stati membri\n",
      "umani libertà\n",
      "libertà fondamentali\n",
      "tutte nazioni\n",
      "riconoscimento rispetto\n",
      "legge diritto\n",
      "senza alcuna\n",
      "eguale tutela\n",
      "diritto eguale\n",
      "secondo diritto\n",
      "ogni stato\n",
      "fini principi\n",
      "principi nazioni\n",
      "unite articolo\n",
      "arbitrariamente privato\n",
      "libero pieno\n",
      "società diritto\n",
      "può essere\n",
      "diritto sicurezza\n",
      "protezione sociale\n",
      "listruzione deve\n",
      "pieno sviluppo\n",
      "dicembre lassemblea\n",
      "generale nazioni\n",
      "unite approvò\n",
      "approvò proclamò\n",
      "proclamò dichiarazione\n",
      "umani testo\n",
      "testo completo\n",
      "completo stampato\n",
      "stampato pagine\n",
      "pagine seguenti\n",
      "seguenti dopo\n",
      "dopo solenne\n",
      "solenne deliberazione\n",
      "deliberazione lassemblea\n",
      "lassemblea nazioni\n",
      "unite diede\n",
      "diede istruzioni\n",
      "istruzioni segretario\n",
      "segretario generale\n",
      "generale provvedere\n",
      "provvedere diffondere\n",
      "diffondere ampiamente\n",
      "ampiamente dichiarazione\n",
      "dichiarazione tal\n",
      "tal fine\n",
      "fine pubblicarne\n",
      "pubblicarne distribuirne\n",
      "distribuirne testo\n",
      "testo soltanto\n",
      "soltanto cinque\n",
      "cinque lingue\n",
      "ufficiali dellorganizzazione\n",
      "dellorganizzazione internazionale\n",
      "internazionale altre\n",
      "altre lingue\n",
      "lingue possibile\n",
      "possibile usando\n",
      "usando ogni\n",
      "mezzo disposizione\n",
      "disposizione testo\n",
      "testo ufficiale\n",
      "ufficiale dichiarazione\n",
      "dichiarazione disponibile\n",
      "disponibile lingue\n",
      "ufficiali nazioni\n",
      "unite cioè\n",
      "cioè cinese\n",
      "cinese francese\n",
      "francese inglese\n",
      "inglese russo\n",
      "russo spagnolo\n",
      "spagnolo dichiarazione\n",
      "umani preambolo\n",
      "preambolo considerato\n",
      "considerato riconoscimento\n",
      "riconoscimento dignità\n",
      "dignità inerente\n",
      "inerente membri\n",
      "membri famiglia\n",
      "famiglia umana\n",
      "umana diritti\n",
      "diritti uguali\n",
      "uguali inalienabili\n",
      "inalienabili costituisce\n",
      "costituisce fondamento\n",
      "fondamento libertà\n",
      "libertà giustizia\n",
      "giustizia pace\n",
      "pace mondo\n",
      "mondo considerato\n",
      "considerato disconoscimento\n",
      "disconoscimento disprezzo\n",
      "disprezzo diritti\n",
      "umani portato\n",
      "portato atti\n",
      "atti barbarie\n",
      "barbarie offendono\n",
      "offendono coscienza\n",
      "coscienza dellumanità\n",
      "dellumanità lavvento\n",
      "lavvento mondo\n",
      "mondo esseri\n",
      "umani godano\n",
      "godano libertà\n",
      "libertà parola\n",
      "parola credo\n",
      "libertà timore\n",
      "timore bisogno\n",
      "bisogno stato\n",
      "stato proclamato\n",
      "proclamato alta\n",
      "alta aspirazione\n",
      "aspirazione delluomo\n",
      "delluomo considerato\n",
      "indispensabile diritti\n",
      "umani protetti\n",
      "protetti norme\n",
      "norme giuridiche\n",
      "giuridiche vuole\n",
      "vuole evitare\n"
     ]
    }
   ],
   "source": [
    "ita_str = '\\n'.join([\"{0}\".format(s[0]) for s in ita_ngrm])\n",
    "print(ita_str)"
   ]
  },
  {
   "cell_type": "code",
   "execution_count": 16,
   "metadata": {
    "collapsed": true
   },
   "outputs": [],
   "source": [
    "with open('ita_pop.txt', 'w', encoding=\"utf-8\") as file:\n",
    "    file.write(ita_str)"
   ]
  },
  {
   "cell_type": "markdown",
   "metadata": {},
   "source": [
    " А теперь для других языков. Возьмем, например, французский, испанский, английский, немецкий, датский и румынский - алфавиты у всех латинские, поэтому правила предобработки не меняются, хотя есть отличия в диакритических знаках и т.д. Чтобы не занимать места, все способы распечатать списки закомментированы.\n",
    "Применяем функцию предобработки и собираем н-граммы.\n",
    "(я понимаю, что логично было бы написать функцию, которая делает все эти 4 шага сразу, но решила пока так не делать, чтобы мы могли проверить результаты на каждом этапе)"
   ]
  },
  {
   "cell_type": "code",
   "execution_count": 17,
   "metadata": {
    "collapsed": true
   },
   "outputs": [],
   "source": [
    "good_fra = good_text('udhr_fra.txt', 'french')"
   ]
  },
  {
   "cell_type": "code",
   "execution_count": 18,
   "metadata": {
    "collapsed": true
   },
   "outputs": [],
   "source": [
    "fra_ngrm = ngram(good_fra, 2)\n",
    "#print(fra_ngrm)"
   ]
  },
  {
   "cell_type": "code",
   "execution_count": 19,
   "metadata": {
    "collapsed": true
   },
   "outputs": [],
   "source": [
    "fra_str = '\\n'.join([\"{0}\".format(s[0]) for s in fra_ngrm])\n",
    "#print(fra_str)"
   ]
  },
  {
   "cell_type": "code",
   "execution_count": 20,
   "metadata": {
    "collapsed": true
   },
   "outputs": [],
   "source": [
    "with open('fra_pop.txt', 'w', encoding=\"utf-8\") as file:\n",
    "    file.write(fra_str)"
   ]
  },
  {
   "cell_type": "code",
   "execution_count": 21,
   "metadata": {
    "collapsed": true
   },
   "outputs": [],
   "source": [
    "good_spa = good_text('udhr_spa.txt', 'spanish')"
   ]
  },
  {
   "cell_type": "code",
   "execution_count": 22,
   "metadata": {
    "collapsed": true
   },
   "outputs": [],
   "source": [
    "spa_ngrm = ngram(good_spa, 2)\n",
    "#print(spa_ngrm)"
   ]
  },
  {
   "cell_type": "code",
   "execution_count": 23,
   "metadata": {
    "collapsed": true
   },
   "outputs": [],
   "source": [
    "spa_str = '\\n'.join([\"{0}\".format(s[0]) for s in spa_ngrm])\n",
    "#print(spa_str)"
   ]
  },
  {
   "cell_type": "code",
   "execution_count": 24,
   "metadata": {
    "collapsed": true
   },
   "outputs": [],
   "source": [
    "with open('spa_pop.txt', 'w', encoding=\"utf-8\") as file:\n",
    "    file.write(spa_str)"
   ]
  },
  {
   "cell_type": "code",
   "execution_count": 25,
   "metadata": {
    "collapsed": true
   },
   "outputs": [],
   "source": [
    "good_eng = good_text('udhr_eng.txt', 'english')\n",
    "eng_ngrm = ngram(good_eng, 2)\n",
    "eng_str = '\\n'.join([\"{0}\".format(s[0]) for s in eng_ngrm])\n",
    "#print(eng_str)"
   ]
  },
  {
   "cell_type": "code",
   "execution_count": 26,
   "metadata": {
    "collapsed": true
   },
   "outputs": [],
   "source": [
    "with open('eng_pop.txt', 'w', encoding=\"utf-8\") as file:\n",
    "    file.write(eng_str)"
   ]
  },
  {
   "cell_type": "code",
   "execution_count": 27,
   "metadata": {
    "collapsed": true
   },
   "outputs": [],
   "source": [
    "good_deu = good_text('udhr_deu_1996.txt', 'german')\n",
    "deu_ngrm = ngram(good_deu, 2)\n",
    "deu_str = '\\n'.join([\"{0}\".format(s[0]) for s in deu_ngrm])\n",
    "#print(deu_str)"
   ]
  },
  {
   "cell_type": "code",
   "execution_count": 28,
   "metadata": {
    "collapsed": true
   },
   "outputs": [],
   "source": [
    "with open('deu_pop.txt', 'w', encoding=\"utf-8\") as file:\n",
    "    file.write(deu_str)"
   ]
  },
  {
   "cell_type": "code",
   "execution_count": 29,
   "metadata": {
    "collapsed": true
   },
   "outputs": [],
   "source": [
    "good_dan = good_text('udhr_dan.txt', 'danish')\n",
    "dan_ngrm = ngram(good_dan, 2)\n",
    "dan_str = '\\n'.join([\"{0}\".format(s[0]) for s in dan_ngrm])\n",
    "#print(dan_str)"
   ]
  },
  {
   "cell_type": "code",
   "execution_count": 30,
   "metadata": {
    "collapsed": true
   },
   "outputs": [],
   "source": [
    "with open('dan_pop.txt', 'w', encoding=\"utf-8\") as file:\n",
    "    file.write(dan_str)"
   ]
  },
  {
   "cell_type": "code",
   "execution_count": 31,
   "metadata": {
    "collapsed": true
   },
   "outputs": [],
   "source": [
    "good_rmn = good_text('udhr_rmn.txt', 'romanian')\n",
    "rmn_ngrm = ngram(good_rmn, 2)\n",
    "rmn_str = '\\n'.join([\"{0}\".format(s[0]) for s in rmn_ngrm])\n",
    "#print(rmn_str)"
   ]
  },
  {
   "cell_type": "code",
   "execution_count": 32,
   "metadata": {
    "collapsed": true
   },
   "outputs": [],
   "source": [
    "with open('rmn_pop.txt', 'w', encoding=\"utf-8\") as file:\n",
    "    file.write(rmn_str)"
   ]
  },
  {
   "cell_type": "markdown",
   "metadata": {},
   "source": [
    "Итак, мы записали файлы с наиболее частотными биграммами.\n",
    "Проверим теперь пересечения для разных языков. Перебираем не все языки, а те, где мы ожидаем увидеть пересечения."
   ]
  },
  {
   "cell_type": "code",
   "execution_count": 33,
   "metadata": {
    "collapsed": true
   },
   "outputs": [],
   "source": [
    "set_spa = set(spa_ngrm)\n",
    "set_ita = set(ita_ngrm)\n",
    "set_deu = set(deu_ngrm)\n",
    "set_fra = set(fra_ngrm)\n",
    "set_eng = set(eng_ngrm)\n",
    "set_rmn = set(rmn_ngrm)\n",
    "set_dan = set(dan_ngrm)"
   ]
  },
  {
   "cell_type": "code",
   "execution_count": 34,
   "metadata": {},
   "outputs": [
    {
     "name": "stdout",
     "output_type": "stream",
     "text": [
      "0\n",
      "0\n",
      "0\n",
      "0\n",
      "1\n",
      "{('national international', 2)}\n",
      "0\n",
      "0\n",
      "0\n"
     ]
    }
   ],
   "source": [
    "print(len(set_ita & set_spa))\n",
    "print(len(set_ita & set_fra))\n",
    "print(len(set_ita & set_rmn))\n",
    "print(len(set_spa & set_fra))\n",
    "print(len(set_eng & set_fra))\n",
    "print(set_eng & set_fra)\n",
    "print(len(set_eng & set_deu))\n",
    "print(len(set_eng & set_dan))\n",
    "print(len(set_dan & set_deu))"
   ]
  },
  {
   "cell_type": "markdown",
   "metadata": {},
   "source": [
    "Результаты не очень впечатляющие: пересечения обнаружились только для английского и французского языка. Предполагаю, что для неочищенных слов результат будет немного лучше.  \n",
    "Посмотрим, будут ли более эффективными пересечения для слов-одиночек:"
   ]
  },
  {
   "cell_type": "code",
   "execution_count": 35,
   "metadata": {
    "collapsed": true
   },
   "outputs": [],
   "source": [
    "set_lnl_spa = set(kj(good_spa, 300))\n",
    "set_lnl_ita = set(kj(good_ita, 300))\n",
    "set_lnl_deu = set(kj(good_deu, 300))\n",
    "set_lnl_fra = set(kj(good_fra, 300))\n",
    "set_lnl_eng = set(kj(good_eng, 300))\n",
    "set_lnl_rmn = set(kj(good_rmn, 300))\n",
    "set_lnl_dan = set(kj(good_dan, 300))"
   ]
  },
  {
   "cell_type": "code",
   "execution_count": 36,
   "metadata": {},
   "outputs": [
    {
     "name": "stdout",
     "output_type": "stream",
     "text": [
      "7\n",
      "{('barbarie', 1), ('arbitrariamente', 3), ('fiduciaria', 1), ('tal', 1), ('proclama', 1), ('base', 2), ('momento', 2)}\n",
      "1\n",
      "{('barbarie', 1)}\n",
      "0\n",
      "2\n",
      "{('barbarie', 1), ('tribunal', 1)}\n",
      "16\n",
      "{('religion', 5), ('justice', 1), ('nations', 8), ('conscience', 3), ('respect', 4), ('impartial', 1), ('obligations', 1), ('race', 2), ('servitude', 1), ('aspiration', 1), ('relations', 1), ('importance', 1), ('constitution', 1), ('tribunal', 1), ('article', 30), ('torture', 1)}\n",
      "1\n",
      "{('tribunal', 1)}\n",
      "1\n",
      "{('progressive', 1)}\n",
      "0\n",
      "0\n",
      "1\n",
      "{('artikel', 30)}\n"
     ]
    }
   ],
   "source": [
    "print(len(set_lnl_ita & set_lnl_spa))\n",
    "print(set_lnl_ita & set_lnl_spa)\n",
    "print(len(set_lnl_ita & set_lnl_fra))\n",
    "print(set_lnl_ita & set_lnl_fra)\n",
    "print(len(set_lnl_ita & set_lnl_rmn))\n",
    "print(len(set_lnl_spa & set_lnl_fra))\n",
    "print(set_lnl_spa & set_lnl_fra)\n",
    "print(len(set_lnl_eng & set_lnl_fra))\n",
    "print(set_lnl_eng & set_lnl_fra)\n",
    "print(len(set_lnl_eng & set_lnl_spa))\n",
    "print(set_lnl_eng & set_lnl_spa)\n",
    "print(len(set_lnl_eng & set_lnl_ita))\n",
    "print(set_lnl_eng & set_lnl_ita)\n",
    "print(len(set_lnl_eng & set_lnl_deu))\n",
    "print(len(set_lnl_eng & set_lnl_dan))\n",
    "print(len(set_lnl_dan & set_lnl_deu))\n",
    "print(set_lnl_dan & set_lnl_deu)"
   ]
  },
  {
   "cell_type": "markdown",
   "metadata": {},
   "source": [
    "Наибольшее число пересечений -- между испанским и итальянским и английским и французским. В целом -- уже лучше. "
   ]
  },
  {
   "cell_type": "markdown",
   "metadata": {},
   "source": [
    "Итак, мы создали файлы для наиболее частотных сочетаний для семи языков. Далее нам нужно построить матрицу их схожести и визуализировать ее."
   ]
  },
  {
   "cell_type": "code",
   "execution_count": 4,
   "metadata": {
    "collapsed": true
   },
   "outputs": [],
   "source": [
    "start_path ='C:\\\\Users\\\\Ksenia\\\\Documents\\\\GitHub\\\\kssamoylenko\\\\kompling\\\\langdetect_b_hw\\\\lang'"
   ]
  },
  {
   "cell_type": "code",
   "execution_count": 38,
   "metadata": {},
   "outputs": [
    {
     "name": "stdout",
     "output_type": "stream",
     "text": [
      "7 files.\n"
     ]
    }
   ],
   "source": [
    "texts = []\n",
    "for path, dirs, files in os.walk(start_path):\n",
    "    for fname in files[:10]:\n",
    "        if not fname.startswith('.'):   \n",
    "            with open(os.path.join(path, fname), encoding='cp1251') as f:\n",
    "                raw_text = f.read()\n",
    "                text = '\\n'.join([line for line in raw_text.split('\\n') if ':' not in line and line.strip()])\n",
    "                texts.append(text)\n",
    "print(len(texts), 'files.')"
   ]
  },
  {
   "cell_type": "code",
   "execution_count": 39,
   "metadata": {
    "collapsed": true
   },
   "outputs": [],
   "source": [
    "from sklearn.feature_extraction.text import TfidfVectorizer\n",
    "import numpy as np\n",
    "from scipy.spatial.distance import pdist, squareform\n",
    "import sys\n",
    "from pprint import pprint"
   ]
  },
  {
   "cell_type": "code",
   "execution_count": 40,
   "metadata": {},
   "outputs": [
    {
     "name": "stdout",
     "output_type": "stream",
     "text": [
      "tfidf shape: (7, 1946)\n"
     ]
    }
   ],
   "source": [
    "vectorizer = TfidfVectorizer(ngram_range=(2, 2), \n",
    "                             min_df=0.1,   \n",
    "                             max_df=0.9)  \n",
    "tfidf = vectorizer.fit_transform(texts)\n",
    "print(\"tfidf shape:\", tfidf.shape)"
   ]
  },
  {
   "cell_type": "code",
   "execution_count": 41,
   "metadata": {},
   "outputs": [
    {
     "data": {
      "text/plain": [
       "scipy.sparse.csr.csr_matrix"
      ]
     },
     "execution_count": 41,
     "metadata": {},
     "output_type": "execute_result"
    }
   ],
   "source": [
    "type(tfidf)"
   ]
  },
  {
   "cell_type": "code",
   "execution_count": 42,
   "metadata": {},
   "outputs": [
    {
     "name": "stdout",
     "output_type": "stream",
     "text": [
      "1946 words\n",
      "['achieve achieve', 'achieve coвђђoperation', 'achtung achtung', 'achtung einhaltung', 'achtung rechten', 'acte dг', 'acte sa', 'actos actos', 'actos barbarie', 'acts acts']\n"
     ]
    }
   ],
   "source": [
    "words = vectorizer.get_feature_names() \n",
    "print(len(words), 'words')\n",
    "print(words[:10])"
   ]
  },
  {
   "cell_type": "code",
   "execution_count": 43,
   "metadata": {},
   "outputs": [
    {
     "name": "stdout",
     "output_type": "stream",
     "text": [
      "tfidf array shape: (7, 1946)\n",
      "<class 'numpy.ndarray'>\n"
     ]
    }
   ],
   "source": [
    "tfidf_ = tfidf.toarray()     \n",
    "print('tfidf array shape:', tfidf_.shape)\n",
    "print(type(tfidf_))"
   ]
  },
  {
   "cell_type": "code",
   "execution_count": 44,
   "metadata": {},
   "outputs": [
    {
     "data": {
      "text/plain": [
       "numpy.matrixlib.defmatrix.matrix"
      ]
     },
     "execution_count": 44,
     "metadata": {},
     "output_type": "execute_result"
    }
   ],
   "source": [
    "type(tfidf.todense())"
   ]
  },
  {
   "cell_type": "code",
   "execution_count": 45,
   "metadata": {
    "collapsed": true
   },
   "outputs": [],
   "source": [
    "tfidf = tfidf_"
   ]
  },
  {
   "cell_type": "code",
   "execution_count": 46,
   "metadata": {},
   "outputs": [
    {
     "name": "stdout",
     "output_type": "stream",
     "text": [
      "<class 'numpy.ndarray'> (1946,)\n"
     ]
    }
   ],
   "source": [
    "doc = tfidf[-1]      \n",
    "print(type(doc), doc.shape)\n",
    "#print(doc)\n",
    "scores = list(doc)"
   ]
  },
  {
   "cell_type": "code",
   "execution_count": 47,
   "metadata": {
    "scrolled": true
   },
   "outputs": [
    {
     "name": "stdout",
     "output_type": "stream",
     "text": [
      "considerando considerando 0.250174\n",
      "libertad libertad 0.200139\n",
      "artг culo 0.200139\n",
      "naciones unidas 0.150104\n",
      "derechos humanos 0.150104\n",
      "considerando esencial 0.150104\n",
      "seres humanos 0.100069\n",
      "rг gimen 0.100069\n",
      "promover promover 0.100069\n",
      "persona persona 0.100069\n",
      "nivel vida 0.100069\n",
      "mundo mundo 0.100069\n",
      "miembros miembros 0.100069\n",
      "intrг nseca 0.100069\n",
      "humana humana 0.100069\n",
      "hombres mujeres 0.100069\n",
      "hombre hombre 0.100069\n",
      "dignidad dignidad 0.100069\n",
      "derechos libertades 0.100069\n",
      "derechos hombre 0.100069\n"
     ]
    }
   ],
   "source": [
    "word_scores = list(zip(scores, words))\n",
    "\n",
    "top = sorted(word_scores, reverse=True)[:20]      # top-20\n",
    "# pprint(top)\n",
    "for score, word in top:\n",
    "    print(word, '{0:.6f}'.format(score))"
   ]
  },
  {
   "cell_type": "markdown",
   "metadata": {},
   "source": [
    "Явно произошел сбой при распознавании кодировки: artг culo на самом деле - articulo.  "
   ]
  },
  {
   "cell_type": "code",
   "execution_count": 48,
   "metadata": {},
   "outputs": [
    {
     "name": "stdout",
     "output_type": "stream",
     "text": [
      "(7, 7)\n",
      "[[ 1.          0.00150531  0.          0.          0.          0.          0.        ]\n",
      " [ 0.00150531  1.          0.00161151  0.          0.          0.\n",
      "   0.00159184]\n",
      " [ 0.          0.00161151  1.          0.00183266  0.          0.\n",
      "   0.00349262]\n",
      " [ 0.          0.          0.00183266  1.          0.          0.          0.        ]\n",
      " [ 0.          0.          0.          0.          1.          0.\n",
      "   0.00362215]\n",
      " [ 0.          0.          0.          0.          0.          1.          0.        ]\n",
      " [ 0.          0.00159184  0.00349262  0.          0.00362215  0.          1.        ]]\n"
     ]
    }
   ],
   "source": [
    "from sklearn.metrics.pairwise import cosine_similarity\n",
    "\n",
    "similarities = cosine_similarity(tfidf)\n",
    "print(similarities.shape)\n",
    "print(similarities)"
   ]
  },
  {
   "cell_type": "code",
   "execution_count": 49,
   "metadata": {},
   "outputs": [
    {
     "data": {
      "text/plain": [
       "array([[ 1.        ,  0.00150531,  0.        ],\n",
       "       [ 0.00150531,  1.        ,  0.00161151],\n",
       "       [ 0.        ,  0.00161151,  1.        ]])"
      ]
     },
     "execution_count": 49,
     "metadata": {},
     "output_type": "execute_result"
    }
   ],
   "source": [
    "cosine_similarity(tfidf[0:3,:])"
   ]
  },
  {
   "cell_type": "code",
   "execution_count": 50,
   "metadata": {},
   "outputs": [
    {
     "data": {
      "image/png": "[encoded data removed]",
      "text/plain": [
       "<matplotlib.figure.Figure at 0x270cad766d8>"
      ]
     },
     "metadata": {},
     "output_type": "display_data"
    }
   ],
   "source": [
    "import matplotlib.pyplot as plt\n",
    "%matplotlib inline\n",
    "\n",
    "plt.imshow(similarities[:100, :100])\n",
    "plt.colorbar()\n",
    "plt.show()"
   ]
  },
  {
   "cell_type": "markdown",
   "metadata": {
    "collapsed": true
   },
   "source": [
    "Пересечений как-то совсем не видно :("
   ]
  },
  {
   "cell_type": "code",
   "execution_count": null,
   "metadata": {
    "collapsed": true
   },
   "outputs": [],
   "source": []
  }
 ],
 "metadata": {
  "kernelspec": {
   "display_name": "Python 3",
   "language": "python",
   "name": "python3"
  },
  "language_info": {
   "codemirror_mode": {
    "name": "ipython",
    "version": 3
   },
   "file_extension": ".py",
   "mimetype": "text/x-python",
   "name": "python",
   "nbconvert_exporter": "python",
   "pygments_lexer": "ipython3",
   "version": "3.6.1"
  }
 },
 "nbformat": 4,
 "nbformat_minor": 2
}
