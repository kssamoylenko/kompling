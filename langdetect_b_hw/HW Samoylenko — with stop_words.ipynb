{
 "cells": [
  {
   "cell_type": "markdown",
   "metadata": {},
   "source": [
    "**Этап 1: предобработка текстов**\n",
    "\n",
    "Я создала функцию для предобработки, которая принимает на вход файл с текстом.\n",
    "\n",
    "Главное, что нужно сделать на этапе предобработки для любого языка (я беру языки с латинскими алфавитами, поэтому подходы тут везде довольно схожие) -- удалить знаки препинания, привести все слова к нижнему регистру, токенезировать слова. Кроме того, в функции отрезаем первые 7 строчек в каждом файле, т.к. они служебного характера.\n",
    "\n",
    "У меня два файла с кодом, чтобы не повторять в одном файле код по многу раз. Основной -- этот, т.к. здесь анализурются неочищенные от стоп-слов текстов. Во втором результаты получились очень слабые, но ради интереса можно посмотреть. "
   ]
  },
  {
   "cell_type": "code",
   "execution_count": 5,
   "metadata": {
    "collapsed": true
   },
   "outputs": [],
   "source": [
    "import os\n",
    "import re\n",
    "from pprint import pprint\n",
    "from collections import Counter"
   ]
  },
  {
   "cell_type": "code",
   "execution_count": 6,
   "metadata": {
    "collapsed": true
   },
   "outputs": [],
   "source": [
    "import nltk\n",
    "from nltk.corpus import stopwords"
   ]
  },
  {
   "cell_type": "code",
   "execution_count": 1,
   "metadata": {
    "collapsed": true
   },
   "outputs": [],
   "source": [
    "import string\n",
    "def good_text(fn):\n",
    "    with open(\"C:\\\\Users\\\\Ksenia\\\\Documents\\\\GitHub\\\\kssamoylenko\\\\kompling\\\\langdetect_b_hw\\\\udhr\\\\{0}\".format(fn), encoding=\"utf-8\") as f:\n",
    "        lines = f.readlines()\n",
    "        clean_lines = \" \".join([re.sub('[W\\d_-]+', ' ', line.lower().strip()) for line in lines][7:])\n",
    "        clean_lines = clean_lines.translate(str.maketrans('', '', string.punctuation))\n",
    "        words = re.split(' +', clean_lines)\n",
    "        return \" \".join(words)"
   ]
  },
  {
   "cell_type": "code",
   "execution_count": 98,
   "metadata": {
    "collapsed": true
   },
   "outputs": [],
   "source": [
    "#print(good_text('udhr_ita.txt'))"
   ]
  },
  {
   "cell_type": "code",
   "execution_count": 99,
   "metadata": {
    "collapsed": true
   },
   "outputs": [],
   "source": [
    "good_ita = good_text('udhr_ita.txt')"
   ]
  },
  {
   "cell_type": "markdown",
   "metadata": {},
   "source": [
    "Теперь создаем списки наиболее частотных слов и n-граммы:"
   ]
  },
  {
   "cell_type": "code",
   "execution_count": 52,
   "metadata": {
    "collapsed": true
   },
   "outputs": [],
   "source": [
    "from collections import Counter\n",
    "from pprint import pprint"
   ]
  },
  {
   "cell_type": "code",
   "execution_count": 53,
   "metadata": {
    "collapsed": true
   },
   "outputs": [],
   "source": [
    "def kj(data, count):\n",
    "    if (type(data) == str):\n",
    "        data = re.split(' +', data)\n",
    "    return sorted(Counter(data).items(), key=lambda item: -item[1])[:count]"
   ]
  },
  {
   "cell_type": "markdown",
   "metadata": {},
   "source": [
    "Создаем список наиболее частотных слов. Если бы мы использовали списки стоп-слов, большинство из них бы исчезли."
   ]
  },
  {
   "cell_type": "code",
   "execution_count": 100,
   "metadata": {},
   "outputs": [
    {
     "data": {
      "text/plain": [
       "[('di', 91),\n",
       " ('e', 89),\n",
       " ('diritto', 40),\n",
       " ('ogni', 39),\n",
       " ('individuo', 37),\n",
       " ('il', 30),\n",
       " ('della', 30),\n",
       " ('articolo', 30),\n",
       " ('in', 29),\n",
       " ('ha', 29),\n",
       " ('o', 27),\n",
       " ('la', 26),\n",
       " ('a', 26),\n",
       " ('diritti', 23),\n",
       " ('essere', 23),\n",
       " ('alla', 22),\n",
       " ('che', 21),\n",
       " ('libertà', 21),\n",
       " ('dei', 20),\n",
       " ('sua', 18),\n",
       " ('ed', 17),\n",
       " ('ad', 17),\n",
       " ('al', 15),\n",
       " ('delle', 14),\n",
       " ('una', 14),\n",
       " ('per', 14),\n",
       " ('i', 13),\n",
       " ('del', 13),\n",
       " ('nazioni', 11),\n",
       " ('un', 11),\n",
       " ('dichiarazione', 10),\n",
       " ('umani', 10),\n",
       " ('è', 10),\n",
       " ('sia', 10),\n",
       " ('le', 10),\n",
       " ('non', 9),\n",
       " ('tutti', 9),\n",
       " ('hanno', 9),\n",
       " ('nella', 9),\n",
       " ('potrà', 9),\n",
       " ('deve', 9),\n",
       " ('unite', 8),\n",
       " ('nel', 8),\n",
       " ('stato', 8),\n",
       " ('da', 8),\n",
       " ('nessun', 8),\n",
       " ('considerato', 7),\n",
       " ('con', 7),\n",
       " ('cui', 6),\n",
       " ('internazionale', 6),\n",
       " ('famiglia', 6),\n",
       " ('gli', 6),\n",
       " ('contro', 6),\n",
       " ('sociale', 6),\n",
       " ('dalla', 6),\n",
       " ('proprio', 6),\n",
       " ('ai', 6),\n",
       " ('universale', 5),\n",
       " ('questa', 5),\n",
       " ('dignità', 5),\n",
       " ('fondamentali', 5),\n",
       " ('vita', 5),\n",
       " ('rispetto', 5),\n",
       " ('presente', 5),\n",
       " ('società', 5),\n",
       " ('altri', 5),\n",
       " ('senza', 5),\n",
       " ('religione', 5),\n",
       " ('paese', 5),\n",
       " ('qualsiasi', 5),\n",
       " ('legge', 5),\n",
       " ('eguale', 5),\n",
       " ('listruzione', 5),\n",
       " ('generale', 4),\n",
       " ('nelle', 4),\n",
       " ('soltanto', 4),\n",
       " ('riconoscimento', 4),\n",
       " ('umana', 4),\n",
       " ('loro', 4),\n",
       " ('come', 4),\n",
       " ('promuovere', 4),\n",
       " ('sviluppo', 4),\n",
       " ('persona', 4),\n",
       " ('sono', 4),\n",
       " ('comune', 4),\n",
       " ('questi', 4),\n",
       " ('tutte', 4),\n",
       " ('degli', 4),\n",
       " ('alcuna', 4),\n",
       " ('sottoposto', 4),\n",
       " ('personalità', 4),\n",
       " ('discriminazione', 4),\n",
       " ('suoi', 4),\n",
       " ('cittadinanza', 4),\n",
       " ('matrimonio', 4),\n",
       " ('attraverso', 4),\n",
       " ('lavoro', 4),\n",
       " ('protezione', 4),\n",
       " ('lassemblea', 3),\n",
       " ('testo', 3),\n",
       " ('fine', 3),\n",
       " ('lingue', 3),\n",
       " ('membri', 3),\n",
       " ('coscienza', 3),\n",
       " ('credo', 3),\n",
       " ('si', 3),\n",
       " ('popoli', 3),\n",
       " ('nazionale', 3),\n",
       " ('fra', 3),\n",
       " ('quanto', 3),\n",
       " ('eguali', 3),\n",
       " ('opinione', 3),\n",
       " ('limitazione', 3),\n",
       " ('sicurezza', 3),\n",
       " ('propria', 3),\n",
       " ('parte', 3),\n",
       " ('tale', 3),\n",
       " ('arbitrariamente', 3),\n",
       " ('reato', 3),\n",
       " ('pubblico', 3),\n",
       " ('quale', 3),\n",
       " ('secondo', 3),\n",
       " ('godere', 3),\n",
       " ('privato', 3),\n",
       " ('riguardo', 3),\n",
       " ('libero', 3),\n",
       " ('pieno', 3),\n",
       " ('volontà', 3),\n",
       " ('caso', 3),\n",
       " ('diffondere', 2),\n",
       " ('ufficiali', 2),\n",
       " ('possibile', 2),\n",
       " ('mezzo', 2),\n",
       " ('fondamento', 2),\n",
       " ('pace', 2),\n",
       " ('mondo', 2),\n",
       " ('atti', 2),\n",
       " ('esseri', 2),\n",
       " ('dal', 2),\n",
       " ('delluomo', 2),\n",
       " ('indispensabile', 2),\n",
       " ('se', 2),\n",
       " ('costretto', 2),\n",
       " ('lo', 2),\n",
       " ('statuto', 2),\n",
       " ('progresso', 2),\n",
       " ('tenore', 2),\n",
       " ('stati', 2),\n",
       " ('cooperazione', 2),\n",
       " ('piena', 2),\n",
       " ('realizzazione', 2),\n",
       " ('queste', 2),\n",
       " ('essi', 2),\n",
       " ('devono', 2),\n",
       " ('verso', 2),\n",
       " ('distinzione', 2),\n",
       " ('razza', 2),\n",
       " ('altro', 2),\n",
       " ('genere', 2),\n",
       " ('sarà', 2),\n",
       " ('sulla', 2),\n",
       " ('base', 2),\n",
       " ('indipendente', 2),\n",
       " ('schiavitù', 2),\n",
       " ('tutela', 2),\n",
       " ('lui', 2),\n",
       " ('equa', 2),\n",
       " ('doveri', 2),\n",
       " ('nonché', 2),\n",
       " ('egli', 2),\n",
       " ('difesa', 2),\n",
       " ('momento', 2),\n",
       " ('superiore', 2),\n",
       " ('interferenze', 2),\n",
       " ('né', 2),\n",
       " ('suo', 2),\n",
       " ('incluso', 2),\n",
       " ('cercare', 2),\n",
       " ('fini', 2),\n",
       " ('principi', 2),\n",
       " ('fondare', 2),\n",
       " ('proprietà', 2),\n",
       " ('può', 2),\n",
       " ('partecipare', 2),\n",
       " ('governo', 2),\n",
       " ('liberamente', 2),\n",
       " ('condizioni', 2),\n",
       " ('periodiche', 2),\n",
       " ('libera', 2),\n",
       " ('sociali', 2),\n",
       " ('scelta', 2),\n",
       " ('giuste', 2),\n",
       " ('disoccupazione', 2),\n",
       " ('mezzi', 2),\n",
       " ('interessi', 2),\n",
       " ('benessere', 2),\n",
       " ('cure', 2),\n",
       " ('essa', 2),\n",
       " ('comunità', 2),\n",
       " ('enunciati', 2),\n",
       " ('dicembre', 1),\n",
       " ('approvò', 1),\n",
       " ('proclamò', 1),\n",
       " ('completo', 1),\n",
       " ('stampato', 1),\n",
       " ('pagine', 1),\n",
       " ('seguenti', 1),\n",
       " ('dopo', 1),\n",
       " ('solenne', 1),\n",
       " ('deliberazione', 1),\n",
       " ('diede', 1),\n",
       " ('istruzioni', 1),\n",
       " ('segretario', 1),\n",
       " ('provvedere', 1),\n",
       " ('ampiamente', 1),\n",
       " ('tal', 1),\n",
       " ('pubblicarne', 1),\n",
       " ('distribuirne', 1),\n",
       " ('cinque', 1),\n",
       " ('dellorganizzazione', 1),\n",
       " ('ma', 1),\n",
       " ('anche', 1),\n",
       " ('quante', 1),\n",
       " ('altre', 1),\n",
       " ('fosse', 1),\n",
       " ('usando', 1),\n",
       " ('disposizione', 1),\n",
       " ('ufficiale', 1),\n",
       " ('disponibile', 1),\n",
       " ('cioè', 1),\n",
       " ('cinese', 1),\n",
       " ('francese', 1),\n",
       " ('inglese', 1),\n",
       " ('russo', 1),\n",
       " ('spagnolo', 1),\n",
       " ('preambolo', 1),\n",
       " ('inerente', 1),\n",
       " ('uguali', 1),\n",
       " ('inalienabili', 1),\n",
       " ('costituisce', 1),\n",
       " ('giustizia', 1),\n",
       " ('disconoscimento', 1),\n",
       " ('disprezzo', 1),\n",
       " ('portato', 1),\n",
       " ('barbarie', 1),\n",
       " ('offendono', 1),\n",
       " ('dellumanità', 1),\n",
       " ('lavvento', 1),\n",
       " ('godano', 1),\n",
       " ('parola', 1),\n",
       " ('timore', 1),\n",
       " ('bisogno', 1),\n",
       " ('proclamato', 1),\n",
       " ('più', 1),\n",
       " ('alta', 1),\n",
       " ('aspirazione', 1),\n",
       " ('siano', 1),\n",
       " ('protetti', 1),\n",
       " ('norme', 1),\n",
       " ('giuridiche', 1),\n",
       " ('vuole', 1),\n",
       " ('evitare', 1),\n",
       " ('luomo', 1),\n",
       " ('ricorrere', 1),\n",
       " ('ultima', 1),\n",
       " ('istanza', 1),\n",
       " ('ribellione', 1),\n",
       " ('tirannia', 1),\n",
       " ('loppressione', 1),\n",
       " ('rapporti', 1),\n",
       " ('amichevoli', 1),\n",
       " ('tra', 1),\n",
       " ('riaffermato', 1),\n",
       " ('nello', 1),\n",
       " ('fede', 1),\n",
       " ('nei', 1),\n",
       " ('valore', 1),\n",
       " ('nelluguaglianza', 1),\n",
       " ('donna', 1),\n",
       " ('deciso', 1),\n",
       " ('miglior', 1),\n",
       " ('maggiore', 1),\n",
       " ('impegnati', 1),\n",
       " ('perseguire', 1),\n",
       " ('losservanza', 1),\n",
       " ('concezione', 1),\n",
       " ('massima', 1),\n",
       " ('importanza', 1),\n",
       " ('impegni', 1),\n",
       " ('proclama', 1),\n",
       " ('ideale', 1),\n",
       " ('raggiungersi', 1),\n",
       " ('organo', 1),\n",
       " ('avendo', 1),\n",
       " ('costantemente', 1),\n",
       " ('sforzi', 1),\n",
       " ('linsegnamento', 1),\n",
       " ('leducazione', 1),\n",
       " ('garantirne', 1),\n",
       " ('mediante', 1)]"
      ]
     },
     "execution_count": 100,
     "metadata": {},
     "output_type": "execute_result"
    }
   ],
   "source": [
    "kj(good_ita, 300)"
   ]
  },
  {
   "cell_type": "code",
   "execution_count": 101,
   "metadata": {
    "collapsed": true
   },
   "outputs": [],
   "source": [
    "def ngram(str, n):\n",
    "    s = str.split()\n",
    "    ngrams = [\" \".join(s[i:i+n]) for i in range (len(s)-n+1)]\n",
    "    return kj(Counter(ngrams), 150)"
   ]
  },
  {
   "cell_type": "code",
   "execution_count": 102,
   "metadata": {
    "collapsed": true
   },
   "outputs": [],
   "source": [
    "ita_ngrm = ngram(good_ita, 2)\n",
    "#print(ita_ngrm)"
   ]
  },
  {
   "cell_type": "code",
   "execution_count": 103,
   "metadata": {},
   "outputs": [
    {
     "name": "stdout",
     "output_type": "stream",
     "text": [
      "ogni individuo\n",
      "ha diritto\n",
      "individuo ha\n",
      "articolo ogni\n",
      "e di\n",
      "diritto di\n",
      "dei diritti\n",
      "diritto ad\n",
      "diritti e\n",
      "nazioni unite\n",
      "diritti umani\n",
      "diritto alla\n",
      "potrà essere\n",
      "delle nazioni\n",
      "considerato che\n",
      "libertà di\n",
      "nessun individuo\n",
      "della sua\n",
      "deve essere\n",
      "individuo potrà\n",
      "il diritto\n",
      "e della\n",
      "e delle\n",
      "o di\n",
      "alla libertà\n",
      "ad una\n",
      "universale dei\n",
      "tutti i\n",
      "i diritti\n",
      "le nazioni\n",
      "delle libertà\n",
      "per la\n",
      "presente dichiarazione\n",
      "tutte le\n",
      "articolo nessun\n",
      "hanno diritto\n",
      "nella sua\n",
      "dichiarazione universale\n",
      "questa dichiarazione\n",
      "della libertà\n",
      "e il\n",
      "di un\n",
      "in cui\n",
      "i popoli\n",
      "il rispetto\n",
      "di questi\n",
      "questi diritti\n",
      "della società\n",
      "di religione\n",
      "alla sicurezza\n",
      "e la\n",
      "essere sottoposto\n",
      "sua personalità\n",
      "dalla legge\n",
      "essere arbitrariamente\n",
      "ad un\n",
      "dei suoi\n",
      "di ogni\n",
      "sua famiglia\n",
      "proprio paese\n",
      "o in\n",
      "sviluppo della\n",
      "lassemblea generale\n",
      "il testo\n",
      "lingue ufficiali\n",
      "ogni mezzo\n",
      "che il\n",
      "il riconoscimento\n",
      "riconoscimento della\n",
      "a tutti\n",
      "e dei\n",
      "il fondamento\n",
      "della pace\n",
      "gli esseri\n",
      "esseri umani\n",
      "di credo\n",
      "credo e\n",
      "che è\n",
      "è indispensabile\n",
      "che i\n",
      "costretto a\n",
      "contro la\n",
      "dignità e\n",
      "di promuovere\n",
      "sociale e\n",
      "tenore di\n",
      "di vita\n",
      "in una\n",
      "che gli\n",
      "stati membri\n",
      "umani e\n",
      "libertà fondamentali\n",
      "la presente\n",
      "al fine\n",
      "queste libertà\n",
      "nazionale e\n",
      "e internazionale\n",
      "riconoscimento e\n",
      "articolo tutti\n",
      "di coscienza\n",
      "coscienza e\n",
      "le libertà\n",
      "nella presente\n",
      "di razza\n",
      "di opinione\n",
      "genere di\n",
      "sulla base\n",
      "sottoposto ad\n",
      "limitazione di\n",
      "alla vita\n",
      "ed alla\n",
      "o a\n",
      "diritto in\n",
      "senza alcuna\n",
      "una eguale\n",
      "eguale tutela\n",
      "a lui\n",
      "equa e\n",
      "suoi diritti\n",
      "la sua\n",
      "nel quale\n",
      "al momento\n",
      "momento in\n",
      "sia stato\n",
      "secondo il\n",
      "o secondo\n",
      "non potrà\n",
      "del suo\n",
      "ad essere\n",
      "ogni stato\n",
      "incluso il\n",
      "il proprio\n",
      "proprio e\n",
      "ha il\n",
      "di cercare\n",
      "di godere\n",
      "fini e\n",
      "e ai\n",
      "principi delle\n",
      "unite articolo\n",
      "arbitrariamente privato\n",
      "privato della\n",
      "di fondare\n",
      "il matrimonio\n",
      "il libero\n",
      "libero e\n",
      "e pieno\n",
      "è il\n",
      "società e\n",
      "in comune\n"
     ]
    }
   ],
   "source": [
    "ita_str = '\\n'.join([\"{0}\".format(s[0]) for s in ita_ngrm])\n",
    "print(ita_str)"
   ]
  },
  {
   "cell_type": "code",
   "execution_count": 104,
   "metadata": {
    "collapsed": true
   },
   "outputs": [],
   "source": [
    "with open('ita_top.txt', 'w', encoding=\"utf-8\") as file:\n",
    "    file.write(ita_str)"
   ]
  },
  {
   "cell_type": "markdown",
   "metadata": {},
   "source": [
    " А теперь для других языков. Возьмем, например, французский, испанский, английский, немецкий, датский и румынский - алфавиты у всех латинские, поэтому правила предобработки не меняются, хотя есть отличия в диакритических знаках и т.д. Чтобы не занимать места, все способы распечатать списки закомментированы.\n",
    "Применяем функцию предобработки и собираем н-граммы."
   ]
  },
  {
   "cell_type": "code",
   "execution_count": 105,
   "metadata": {
    "collapsed": true
   },
   "outputs": [],
   "source": [
    "good_fra = good_text('udhr_fra.txt')"
   ]
  },
  {
   "cell_type": "code",
   "execution_count": 61,
   "metadata": {
    "collapsed": true
   },
   "outputs": [],
   "source": [
    "fra_ngrm = ngram(good_fra, 2)\n",
    "#print(fra_ngrm)"
   ]
  },
  {
   "cell_type": "code",
   "execution_count": 62,
   "metadata": {
    "collapsed": true
   },
   "outputs": [],
   "source": [
    "fra_str = '\\n'.join([\"{0}\".format(s[0]) for s in fra_ngrm])\n",
    "#print(fra_str)"
   ]
  },
  {
   "cell_type": "code",
   "execution_count": 63,
   "metadata": {
    "collapsed": true
   },
   "outputs": [],
   "source": [
    "with open('fra_top.txt', 'w', encoding=\"utf-8\") as file:\n",
    "    file.write(fra_str)"
   ]
  },
  {
   "cell_type": "code",
   "execution_count": 64,
   "metadata": {
    "collapsed": true
   },
   "outputs": [],
   "source": [
    "good_spa = good_text('udhr_spa.txt')"
   ]
  },
  {
   "cell_type": "code",
   "execution_count": 66,
   "metadata": {
    "collapsed": true
   },
   "outputs": [],
   "source": [
    "spa_ngrm = ngram(good_spa, 2)\n",
    "#print(spa_ngrm)"
   ]
  },
  {
   "cell_type": "code",
   "execution_count": 67,
   "metadata": {
    "collapsed": true
   },
   "outputs": [],
   "source": [
    "spa_str = '\\n'.join([\"{0}\".format(s[0]) for s in spa_ngrm])\n",
    "#print(spa_str)"
   ]
  },
  {
   "cell_type": "code",
   "execution_count": 68,
   "metadata": {
    "collapsed": true
   },
   "outputs": [],
   "source": [
    "with open('spa_top.txt', 'w', encoding=\"utf-8\") as file:\n",
    "    file.write(spa_str)"
   ]
  },
  {
   "cell_type": "code",
   "execution_count": 69,
   "metadata": {
    "collapsed": true
   },
   "outputs": [],
   "source": [
    "good_eng = good_text('udhr_eng.txt')\n",
    "eng_ngrm = ngram(good_eng, 2)\n",
    "eng_str = '\\n'.join([\"{0}\".format(s[0]) for s in eng_ngrm])\n",
    "#print(eng_str)"
   ]
  },
  {
   "cell_type": "code",
   "execution_count": 70,
   "metadata": {
    "collapsed": true
   },
   "outputs": [],
   "source": [
    "with open('eng_top.txt', 'w', encoding=\"utf-8\") as file:\n",
    "    file.write(eng_str)"
   ]
  },
  {
   "cell_type": "code",
   "execution_count": 71,
   "metadata": {
    "collapsed": true
   },
   "outputs": [],
   "source": [
    "good_deu = good_text('udhr_deu_1996.txt')\n",
    "deu_ngrm = ngram(good_deu, 2)\n",
    "deu_str = '\\n'.join([\"{0}\".format(s[0]) for s in deu_ngrm])\n",
    "#print(deu_str)"
   ]
  },
  {
   "cell_type": "code",
   "execution_count": 72,
   "metadata": {
    "collapsed": true
   },
   "outputs": [],
   "source": [
    "with open('deu_top.txt', 'w', encoding=\"utf-8\") as file:\n",
    "    file.write(deu_str)"
   ]
  },
  {
   "cell_type": "code",
   "execution_count": 73,
   "metadata": {
    "collapsed": true
   },
   "outputs": [],
   "source": [
    "good_dan = good_text('udhr_dan.txt')\n",
    "dan_ngrm = ngram(good_dan, 2)\n",
    "dan_str = '\\n'.join([\"{0}\".format(s[0]) for s in dan_ngrm])\n",
    "#print(dan_str)"
   ]
  },
  {
   "cell_type": "code",
   "execution_count": 74,
   "metadata": {
    "collapsed": true
   },
   "outputs": [],
   "source": [
    "with open('dan_top.txt', 'w', encoding=\"utf-8\") as file:\n",
    "    file.write(dan_str)"
   ]
  },
  {
   "cell_type": "code",
   "execution_count": 75,
   "metadata": {
    "collapsed": true
   },
   "outputs": [],
   "source": [
    "good_rmn = good_text('udhr_rmn.txt')\n",
    "rmn_ngrm = ngram(good_rmn, 2)\n",
    "rmn_str = '\\n'.join([\"{0}\".format(s[0]) for s in rmn_ngrm])\n",
    "#print(rmn_str)"
   ]
  },
  {
   "cell_type": "code",
   "execution_count": 76,
   "metadata": {
    "collapsed": true
   },
   "outputs": [],
   "source": [
    "with open('rmn_top.txt', 'w', encoding=\"utf-8\") as file:\n",
    "    file.write(rmn_str)"
   ]
  },
  {
   "cell_type": "markdown",
   "metadata": {},
   "source": [
    "Итак, мы записали файлы с наиболее частотными биграммами. Проверим теперь пересечения для разных языков. Перебираем не все языки, а те, где мы ожидаем увидеть пересечения."
   ]
  },
  {
   "cell_type": "code",
   "execution_count": 107,
   "metadata": {
    "collapsed": true
   },
   "outputs": [],
   "source": [
    "set_spa = set(spa_ngrm)\n",
    "set_ita = set(ita_ngrm)\n",
    "set_deu = set(deu_ngrm)\n",
    "set_fra = set(fra_ngrm)\n",
    "set_eng = set(eng_ngrm)\n",
    "set_rmn = set(rmn_ngrm)\n",
    "set_dan = set(dan_ngrm)"
   ]
  },
  {
   "cell_type": "code",
   "execution_count": 108,
   "metadata": {},
   "outputs": [
    {
     "name": "stdout",
     "output_type": "stream",
     "text": [
      "1\n",
      "{('la presente', 2)}\n",
      "0\n",
      "0\n",
      "1\n",
      "{('que la', 3)}\n",
      "0\n",
      "0\n",
      "0\n",
      "0\n",
      "1\n",
      "{('artikel alle', 3)}\n"
     ]
    }
   ],
   "source": [
    "print(len(set_ita & set_spa))\n",
    "print(set_ita & set_spa)\n",
    "print(len(set_ita & set_fra))\n",
    "print(len(set_ita & set_rmn))\n",
    "print(len(set_spa & set_fra))\n",
    "print(set_spa & set_fra)\n",
    "print(len(set_eng & set_fra))\n",
    "print(len(set_eng & set_deu))\n",
    "print(len(set_eng & set_dan))\n",
    "print(len(set_eng & set_rmn))\n",
    "print(len(set_dan & set_deu))\n",
    "print(set_dan & set_deu)"
   ]
  },
  {
   "cell_type": "markdown",
   "metadata": {},
   "source": [
    "Пересечений оказалось немного больше, чем для очищенных от стоп-слов текстов, но все равно не очень много. Проверим для слов-одиночек:\n"
   ]
  },
  {
   "cell_type": "code",
   "execution_count": 109,
   "metadata": {
    "collapsed": true
   },
   "outputs": [],
   "source": [
    "set_lnl_spa = set(kj(good_spa, 300))\n",
    "set_lnl_ita = set(kj(good_ita, 300))\n",
    "set_lnl_deu = set(kj(good_deu, 300))\n",
    "set_lnl_fra = set(kj(good_fra, 300))\n",
    "set_lnl_eng = set(kj(good_eng, 300))\n",
    "set_lnl_rmn = set(kj(good_rmn, 300))\n",
    "set_lnl_dan = set(kj(good_dan, 300))"
   ]
  },
  {
   "cell_type": "code",
   "execution_count": 110,
   "metadata": {
    "scrolled": true
   },
   "outputs": [
    {
     "name": "stdout",
     "output_type": "stream",
     "text": [
      "6\n",
      "{('momento', 2), ('un', 11), ('proclama', 1), ('barbarie', 1), ('arbitrariamente', 3), ('base', 2)}\n",
      "1\n",
      "{('barbarie', 1)}\n",
      "0\n",
      "2\n",
      "{('ni', 5), ('barbarie', 1)}\n",
      "10\n",
      "{('race', 2), ('relations', 1), ('religion', 5), ('conscience', 3), ('importance', 1), ('justice', 1), ('nations', 8), ('aspiration', 1), ('respect', 4), ('article', 30)}\n",
      "0\n",
      "0\n",
      "0\n",
      "1\n",
      "{('status', 2)}\n",
      "1\n",
      "{('man', 1)}\n",
      "1\n",
      "{('artikel', 30)}\n"
     ]
    }
   ],
   "source": [
    "print(len(set_lnl_ita & set_lnl_spa))\n",
    "print(set_lnl_ita & set_lnl_spa)\n",
    "print(len(set_lnl_ita & set_lnl_fra))\n",
    "print(set_lnl_ita & set_lnl_fra)\n",
    "print(len(set_lnl_ita & set_lnl_rmn))\n",
    "print(len(set_lnl_spa & set_lnl_fra))\n",
    "print(set_lnl_spa & set_lnl_fra)\n",
    "print(len(set_lnl_eng & set_lnl_fra))\n",
    "print(set_lnl_eng & set_lnl_fra)\n",
    "print(len(set_lnl_eng & set_lnl_spa))\n",
    "print(len(set_lnl_eng & set_lnl_ita))\n",
    "print(len(set_lnl_eng & set_lnl_deu))\n",
    "print(len(set_lnl_eng & set_lnl_rmn))\n",
    "print(set_lnl_eng & set_lnl_rmn)\n",
    "print(len(set_lnl_eng & set_lnl_dan))\n",
    "print(set_lnl_dan & set_lnl_eng)\n",
    "print(len(set_lnl_dan & set_lnl_deu))\n",
    "print(set_lnl_dan & set_lnl_deu)"
   ]
  },
  {
   "cell_type": "markdown",
   "metadata": {},
   "source": [
    "Вот здесь получается любопытно: общих слов-одиночек оказалось меньше, чем для очищенных текстов (для пересечений испанского с ильаняским и французского с английским). Видимо, это связано с тем, что место в топах плотно заняли служебные слова.\n",
    "\n",
    "\n",
    "Итак, мы создали файлы для наиболее частотных сочетаний для семи языков. Далее нам нужно построить матрицу их схожести и визуализировать ее."
   ]
  },
  {
   "cell_type": "code",
   "execution_count": 2,
   "metadata": {
    "collapsed": true
   },
   "outputs": [],
   "source": [
    "start_path = 'C:\\\\Users\\\\Ksenia\\\\Documents\\\\GitHub\\\\kssamoylenko\\\\kompling\\\\langdetect_b_hw\\\\lang_top'"
   ]
  },
  {
   "cell_type": "code",
   "execution_count": 112,
   "metadata": {},
   "outputs": [
    {
     "name": "stdout",
     "output_type": "stream",
     "text": [
      "7 files.\n"
     ]
    }
   ],
   "source": [
    "texts = []\n",
    "for path, dirs, files in os.walk(start_path):\n",
    "    for fname in files[:10]:\n",
    "        if not fname.startswith('.'):   \n",
    "            with open(os.path.join(path, fname), encoding='cp1251') as f:\n",
    "                raw_text = f.read()\n",
    "                text = '\\n'.join([line for line in raw_text.split('\\n') if ':' not in line and line.strip()])\n",
    "                texts.append(text)\n",
    "print(len(texts), 'files.')\n"
   ]
  },
  {
   "cell_type": "code",
   "execution_count": 113,
   "metadata": {
    "collapsed": true
   },
   "outputs": [],
   "source": [
    "from sklearn.feature_extraction.text import TfidfVectorizer\n",
    "import numpy as np\n",
    "from scipy.spatial.distance import pdist, squareform\n",
    "import sys\n",
    "from pprint import pprint"
   ]
  },
  {
   "cell_type": "code",
   "execution_count": 114,
   "metadata": {},
   "outputs": [
    {
     "name": "stdout",
     "output_type": "stream",
     "text": [
      "tfidf shape: (7, 1872)\n"
     ]
    }
   ],
   "source": [
    "vectorizer = TfidfVectorizer(ngram_range=(2, 2), \n",
    "                             min_df=0.1,   \n",
    "                             max_df=0.9)  \n",
    "tfidf = vectorizer.fit_transform(texts)\n",
    "print(\"tfidf shape:\", tfidf.shape)"
   ]
  },
  {
   "cell_type": "code",
   "execution_count": 115,
   "metadata": {},
   "outputs": [
    {
     "data": {
      "text/plain": [
       "scipy.sparse.csr.csr_matrix"
      ]
     },
     "execution_count": 115,
     "metadata": {},
     "output_type": "execute_result"
    }
   ],
   "source": [
    "type(tfidf)"
   ]
  },
  {
   "cell_type": "code",
   "execution_count": 116,
   "metadata": {},
   "outputs": [
    {
     "name": "stdout",
     "output_type": "stream",
     "text": [
      "1872 words\n",
      "['achtung vor', 'act the', 'acte dг', 'acte ou', 'ad diritti', 'ad essere', 'ad limitazione', 'ad un', 'ad una', 'af afgгёrende']\n"
     ]
    }
   ],
   "source": [
    "words = vectorizer.get_feature_names() \n",
    "print(len(words), 'words')\n",
    "print(words[:10])"
   ]
  },
  {
   "cell_type": "code",
   "execution_count": 117,
   "metadata": {},
   "outputs": [
    {
     "name": "stdout",
     "output_type": "stream",
     "text": [
      "tfidf array shape: (7, 1872)\n",
      "<class 'numpy.ndarray'>\n"
     ]
    }
   ],
   "source": [
    "tfidf_ = tfidf.toarray()     \n",
    "print('tfidf array shape:', tfidf_.shape)\n",
    "print(type(tfidf_))"
   ]
  },
  {
   "cell_type": "code",
   "execution_count": 118,
   "metadata": {},
   "outputs": [
    {
     "data": {
      "text/plain": [
       "numpy.matrixlib.defmatrix.matrix"
      ]
     },
     "execution_count": 118,
     "metadata": {},
     "output_type": "execute_result"
    }
   ],
   "source": [
    "type(tfidf.todense())"
   ]
  },
  {
   "cell_type": "code",
   "execution_count": 119,
   "metadata": {
    "collapsed": true
   },
   "outputs": [],
   "source": [
    "tfidf = tfidf_"
   ]
  },
  {
   "cell_type": "code",
   "execution_count": 120,
   "metadata": {},
   "outputs": [
    {
     "name": "stdout",
     "output_type": "stream",
     "text": [
      "<class 'numpy.ndarray'> (1872,)\n"
     ]
    }
   ],
   "source": [
    "doc = tfidf[-1]      \n",
    "print(type(doc), doc.shape)\n",
    "#print(doc)\n",
    "scores = list(doc)"
   ]
  },
  {
   "cell_type": "code",
   "execution_count": 121,
   "metadata": {},
   "outputs": [
    {
     "name": "stdout",
     "output_type": "stream",
     "text": [
      "artг culo 0.229928\n",
      "de la 0.143145\n",
      "tiene la 0.114964\n",
      "su la 0.114964\n",
      "los derechos 0.114964\n",
      "igual protecciгіn 0.114964\n",
      "en los 0.114964\n",
      "en en 0.114964\n",
      "el que 0.114964\n",
      "el el 0.114964\n",
      "derecho la 0.114964\n",
      "de las 0.114964\n",
      "vida los 0.057482\n",
      "vida la 0.057482\n",
      "unidas una 0.057482\n",
      "una persona 0.057482\n",
      "una derechos 0.057482\n",
      "un sus 0.057482\n",
      "un que 0.057482\n",
      "un fin 0.057482\n"
     ]
    }
   ],
   "source": [
    "word_scores = list(zip(scores, words))\n",
    "\n",
    "top = sorted(word_scores, reverse=True)[:20]      \n",
    "for score, word in top:\n",
    "    print(word, '{0:.6f}'.format(score))"
   ]
  },
  {
   "cell_type": "code",
   "execution_count": 122,
   "metadata": {},
   "outputs": [
    {
     "name": "stdout",
     "output_type": "stream",
     "text": [
      "(7, 7)\n",
      "[[ 1.          0.00578474  0.          0.          0.          0.          0.        ]\n",
      " [ 0.00578474  1.          0.          0.          0.          0.          0.        ]\n",
      " [ 0.          0.          1.          0.          0.          0.          0.        ]\n",
      " [ 0.          0.          0.          1.          0.00224735  0.\n",
      "   0.03204266]\n",
      " [ 0.          0.          0.          0.00224735  1.          0.\n",
      "   0.00479041]\n",
      " [ 0.          0.          0.          0.          0.          1.          0.        ]\n",
      " [ 0.          0.          0.          0.03204266  0.00479041  0.          1.        ]]\n"
     ]
    }
   ],
   "source": [
    "from sklearn.metrics.pairwise import cosine_similarity\n",
    "\n",
    "similarities = cosine_similarity(tfidf)\n",
    "print(similarities.shape)\n",
    "print(similarities)"
   ]
  },
  {
   "cell_type": "code",
   "execution_count": 123,
   "metadata": {},
   "outputs": [
    {
     "data": {
      "text/plain": [
       "array([[ 1.        ,  0.00578474,  0.        ,  0.        ,  0.        ],\n",
       "       [ 0.00578474,  1.        ,  0.        ,  0.        ,  0.        ],\n",
       "       [ 0.        ,  0.        ,  1.        ,  0.        ,  0.        ],\n",
       "       [ 0.        ,  0.        ,  0.        ,  1.        ,  0.00224735],\n",
       "       [ 0.        ,  0.        ,  0.        ,  0.00224735,  1.        ]])"
      ]
     },
     "execution_count": 123,
     "metadata": {},
     "output_type": "execute_result"
    }
   ],
   "source": [
    "cosine_similarity(tfidf[0:5,:])"
   ]
  },
  {
   "cell_type": "code",
   "execution_count": 124,
   "metadata": {},
   "outputs": [
    {
     "data": {
      "image/png": "[encoded data removed]",
      "text/plain": [
       "<matplotlib.figure.Figure at 0x1f4044be8d0>"
      ]
     },
     "metadata": {},
     "output_type": "display_data"
    }
   ],
   "source": [
    "import matplotlib.pyplot as plt\n",
    "%matplotlib inline\n",
    "\n",
    "plt.imshow(similarities[:100, :100])\n",
    "plt.colorbar()\n",
    "plt.show()"
   ]
  },
  {
   "cell_type": "markdown",
   "metadata": {
    "collapsed": true
   },
   "source": [
    "Видим небольшое пересечение между языками 6 и 3, т.е. французским и испанским (общий биграм в топах у них встречался чуть чаще)."
   ]
  },
  {
   "cell_type": "code",
   "execution_count": null,
   "metadata": {
    "collapsed": true
   },
   "outputs": [],
   "source": []
  }
 ],
 "metadata": {
  "kernelspec": {
   "display_name": "Python 3",
   "language": "python",
   "name": "python3"
  },
  "language_info": {
   "codemirror_mode": {
    "name": "ipython",
    "version": 3
   },
   "file_extension": ".py",
   "mimetype": "text/x-python",
   "name": "python",
   "nbconvert_exporter": "python",
   "pygments_lexer": "ipython3",
   "version": "3.6.1"
  }
 },
 "nbformat": 4,
 "nbformat_minor": 2
}
